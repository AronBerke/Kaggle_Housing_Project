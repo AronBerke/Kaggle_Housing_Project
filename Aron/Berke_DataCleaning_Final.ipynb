{
 "cells": [
  {
   "cell_type": "code",
   "execution_count": 35,
   "metadata": {},
   "outputs": [],
   "source": [
    "import pandas as pd\n",
    "import numpy as np\n",
    "from matplotlib import pyplot as plt\n",
    "plt.style.use('ggplot')\n",
    "import seaborn as sns\n",
    "from scipy import stats"
   ]
  },
  {
   "cell_type": "code",
   "execution_count": 36,
   "metadata": {},
   "outputs": [],
   "source": [
    "df_train = pd.read_csv('train.csv', index_col=0)"
   ]
  },
  {
   "cell_type": "code",
   "execution_count": 37,
   "metadata": {},
   "outputs": [],
   "source": [
    "#drop KitchenAbvGr and MiscVal variables\n",
    "vrs_drp = ['KitchenAbvGr', 'MiscVal']\n",
    "df_train = df_train.drop(vrs_drp, axis = 1)"
   ]
  },
  {
   "cell_type": "code",
   "execution_count": 38,
   "metadata": {},
   "outputs": [],
   "source": [
    "#Impute mean onto missing values in GarageYrBlt\n",
    "df_train['GarageYrBlt'].fillna(round(df_train['GarageYrBlt'].mean()),inplace = True)"
   ]
  },
  {
   "cell_type": "code",
   "execution_count": 39,
   "metadata": {},
   "outputs": [],
   "source": [
    "#convert MoSold to categorical\n",
    "df_train['MoSold'] = df_train['MoSold'].astype('category')"
   ]
  },
  {
   "cell_type": "code",
   "execution_count": 40,
   "metadata": {},
   "outputs": [],
   "source": [
    "#define function to dummify continuous porch, deck and pool variables\n",
    "def make_binry(X,vrs):\n",
    "    '''\n",
    "    This is a mutating function that replaces any nonzero value with 1\n",
    "    ----------\n",
    "    X: dataframe\n",
    "    vrs: list of variables or single variable\n",
    "    '''\n",
    "    for var in vrs:\n",
    "        df_train.loc[df_train[var]>0,var]=1"
   ]
  },
  {
   "cell_type": "code",
   "execution_count": 41,
   "metadata": {},
   "outputs": [],
   "source": [
    "#apply the function to the porch, deck, and pool variables\n",
    "vrs = ['3SsnPorch', 'EnclosedPorch', 'OpenPorchSF','PoolArea','ScreenPorch', 'WoodDeckSF']\n",
    "make_binry(df_train,vrs)"
   ]
  },
  {
   "cell_type": "code",
   "execution_count": 42,
   "metadata": {},
   "outputs": [],
   "source": [
    "df_train.to_csv('AronCleaned.csv')"
   ]
  },
  {
   "cell_type": "code",
   "execution_count": null,
   "metadata": {},
   "outputs": [],
   "source": []
  }
 ],
 "metadata": {
  "kernelspec": {
   "display_name": "Python 3",
   "language": "python",
   "name": "python3"
  },
  "language_info": {
   "codemirror_mode": {
    "name": "ipython",
    "version": 3
   },
   "file_extension": ".py",
   "mimetype": "text/x-python",
   "name": "python",
   "nbconvert_exporter": "python",
   "pygments_lexer": "ipython3",
   "version": "3.7.3"
  }
 },
 "nbformat": 4,
 "nbformat_minor": 2
}
