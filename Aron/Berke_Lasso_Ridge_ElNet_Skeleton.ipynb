{
 "cells": [
  {
   "cell_type": "code",
   "execution_count": 1,
   "metadata": {},
   "outputs": [
    {
     "ename": "FileNotFoundError",
     "evalue": "[Errno 2] File b'baseline_df.csv' does not exist: b'baseline_df.csv'",
     "output_type": "error",
     "traceback": [
      "\u001b[0;31m---------------------------------------------------------------------------\u001b[0m",
      "\u001b[0;31mFileNotFoundError\u001b[0m                         Traceback (most recent call last)",
      "\u001b[0;32m<ipython-input-1-f3ae0e92d70d>\u001b[0m in \u001b[0;36m<module>\u001b[0;34m\u001b[0m\n\u001b[1;32m     18\u001b[0m \u001b[0mpd\u001b[0m\u001b[0;34m.\u001b[0m\u001b[0mset_option\u001b[0m\u001b[0;34m(\u001b[0m\u001b[0;34m'display.max_columns'\u001b[0m\u001b[0;34m,\u001b[0m \u001b[0;32mNone\u001b[0m\u001b[0;34m)\u001b[0m\u001b[0;34m\u001b[0m\u001b[0;34m\u001b[0m\u001b[0m\n\u001b[1;32m     19\u001b[0m \u001b[0mpd\u001b[0m\u001b[0;34m.\u001b[0m\u001b[0mset_option\u001b[0m\u001b[0;34m(\u001b[0m\u001b[0;34m'display.max_rows'\u001b[0m\u001b[0;34m,\u001b[0m \u001b[0;32mNone\u001b[0m\u001b[0;34m)\u001b[0m\u001b[0;34m\u001b[0m\u001b[0;34m\u001b[0m\u001b[0m\n\u001b[0;32m---> 20\u001b[0;31m \u001b[0mbaseline_df\u001b[0m\u001b[0;34m=\u001b[0m\u001b[0mpd\u001b[0m\u001b[0;34m.\u001b[0m\u001b[0mread_csv\u001b[0m\u001b[0;34m(\u001b[0m\u001b[0;34m'baseline_df.csv'\u001b[0m\u001b[0;34m,\u001b[0m\u001b[0mindex_col\u001b[0m\u001b[0;34m=\u001b[0m\u001b[0;34m'Id'\u001b[0m\u001b[0;34m)\u001b[0m\u001b[0;34m\u001b[0m\u001b[0;34m\u001b[0m\u001b[0m\n\u001b[0m\u001b[1;32m     21\u001b[0m \u001b[0mnormalized_baseline_df\u001b[0m\u001b[0;34m=\u001b[0m\u001b[0mpd\u001b[0m\u001b[0;34m.\u001b[0m\u001b[0mread_csv\u001b[0m\u001b[0;34m(\u001b[0m\u001b[0;34m'normalized_baseline_df.csv'\u001b[0m\u001b[0;34m,\u001b[0m\u001b[0mindex_col\u001b[0m\u001b[0;34m=\u001b[0m\u001b[0;34m'Id'\u001b[0m\u001b[0;34m)\u001b[0m\u001b[0;34m\u001b[0m\u001b[0;34m\u001b[0m\u001b[0m\n\u001b[1;32m     22\u001b[0m \u001b[0mstandardized_baseline_df\u001b[0m\u001b[0;34m=\u001b[0m\u001b[0mpd\u001b[0m\u001b[0;34m.\u001b[0m\u001b[0mread_csv\u001b[0m\u001b[0;34m(\u001b[0m\u001b[0;34m'standardized_baseline_df.csv'\u001b[0m\u001b[0;34m,\u001b[0m\u001b[0mindex_col\u001b[0m\u001b[0;34m=\u001b[0m\u001b[0;34m'Id'\u001b[0m\u001b[0;34m)\u001b[0m\u001b[0;34m\u001b[0m\u001b[0;34m\u001b[0m\u001b[0m\n",
      "\u001b[0;32m~/anaconda3/lib/python3.7/site-packages/pandas/io/parsers.py\u001b[0m in \u001b[0;36mparser_f\u001b[0;34m(filepath_or_buffer, sep, delimiter, header, names, index_col, usecols, squeeze, prefix, mangle_dupe_cols, dtype, engine, converters, true_values, false_values, skipinitialspace, skiprows, skipfooter, nrows, na_values, keep_default_na, na_filter, verbose, skip_blank_lines, parse_dates, infer_datetime_format, keep_date_col, date_parser, dayfirst, cache_dates, iterator, chunksize, compression, thousands, decimal, lineterminator, quotechar, quoting, doublequote, escapechar, comment, encoding, dialect, error_bad_lines, warn_bad_lines, delim_whitespace, low_memory, memory_map, float_precision)\u001b[0m\n\u001b[1;32m    683\u001b[0m         )\n\u001b[1;32m    684\u001b[0m \u001b[0;34m\u001b[0m\u001b[0m\n\u001b[0;32m--> 685\u001b[0;31m         \u001b[0;32mreturn\u001b[0m \u001b[0m_read\u001b[0m\u001b[0;34m(\u001b[0m\u001b[0mfilepath_or_buffer\u001b[0m\u001b[0;34m,\u001b[0m \u001b[0mkwds\u001b[0m\u001b[0;34m)\u001b[0m\u001b[0;34m\u001b[0m\u001b[0;34m\u001b[0m\u001b[0m\n\u001b[0m\u001b[1;32m    686\u001b[0m \u001b[0;34m\u001b[0m\u001b[0m\n\u001b[1;32m    687\u001b[0m     \u001b[0mparser_f\u001b[0m\u001b[0;34m.\u001b[0m\u001b[0m__name__\u001b[0m \u001b[0;34m=\u001b[0m \u001b[0mname\u001b[0m\u001b[0;34m\u001b[0m\u001b[0;34m\u001b[0m\u001b[0m\n",
      "\u001b[0;32m~/anaconda3/lib/python3.7/site-packages/pandas/io/parsers.py\u001b[0m in \u001b[0;36m_read\u001b[0;34m(filepath_or_buffer, kwds)\u001b[0m\n\u001b[1;32m    455\u001b[0m \u001b[0;34m\u001b[0m\u001b[0m\n\u001b[1;32m    456\u001b[0m     \u001b[0;31m# Create the parser.\u001b[0m\u001b[0;34m\u001b[0m\u001b[0;34m\u001b[0m\u001b[0;34m\u001b[0m\u001b[0m\n\u001b[0;32m--> 457\u001b[0;31m     \u001b[0mparser\u001b[0m \u001b[0;34m=\u001b[0m \u001b[0mTextFileReader\u001b[0m\u001b[0;34m(\u001b[0m\u001b[0mfp_or_buf\u001b[0m\u001b[0;34m,\u001b[0m \u001b[0;34m**\u001b[0m\u001b[0mkwds\u001b[0m\u001b[0;34m)\u001b[0m\u001b[0;34m\u001b[0m\u001b[0;34m\u001b[0m\u001b[0m\n\u001b[0m\u001b[1;32m    458\u001b[0m \u001b[0;34m\u001b[0m\u001b[0m\n\u001b[1;32m    459\u001b[0m     \u001b[0;32mif\u001b[0m \u001b[0mchunksize\u001b[0m \u001b[0;32mor\u001b[0m \u001b[0miterator\u001b[0m\u001b[0;34m:\u001b[0m\u001b[0;34m\u001b[0m\u001b[0;34m\u001b[0m\u001b[0m\n",
      "\u001b[0;32m~/anaconda3/lib/python3.7/site-packages/pandas/io/parsers.py\u001b[0m in \u001b[0;36m__init__\u001b[0;34m(self, f, engine, **kwds)\u001b[0m\n\u001b[1;32m    893\u001b[0m             \u001b[0mself\u001b[0m\u001b[0;34m.\u001b[0m\u001b[0moptions\u001b[0m\u001b[0;34m[\u001b[0m\u001b[0;34m\"has_index_names\"\u001b[0m\u001b[0;34m]\u001b[0m \u001b[0;34m=\u001b[0m \u001b[0mkwds\u001b[0m\u001b[0;34m[\u001b[0m\u001b[0;34m\"has_index_names\"\u001b[0m\u001b[0;34m]\u001b[0m\u001b[0;34m\u001b[0m\u001b[0;34m\u001b[0m\u001b[0m\n\u001b[1;32m    894\u001b[0m \u001b[0;34m\u001b[0m\u001b[0m\n\u001b[0;32m--> 895\u001b[0;31m         \u001b[0mself\u001b[0m\u001b[0;34m.\u001b[0m\u001b[0m_make_engine\u001b[0m\u001b[0;34m(\u001b[0m\u001b[0mself\u001b[0m\u001b[0;34m.\u001b[0m\u001b[0mengine\u001b[0m\u001b[0;34m)\u001b[0m\u001b[0;34m\u001b[0m\u001b[0;34m\u001b[0m\u001b[0m\n\u001b[0m\u001b[1;32m    896\u001b[0m \u001b[0;34m\u001b[0m\u001b[0m\n\u001b[1;32m    897\u001b[0m     \u001b[0;32mdef\u001b[0m \u001b[0mclose\u001b[0m\u001b[0;34m(\u001b[0m\u001b[0mself\u001b[0m\u001b[0;34m)\u001b[0m\u001b[0;34m:\u001b[0m\u001b[0;34m\u001b[0m\u001b[0;34m\u001b[0m\u001b[0m\n",
      "\u001b[0;32m~/anaconda3/lib/python3.7/site-packages/pandas/io/parsers.py\u001b[0m in \u001b[0;36m_make_engine\u001b[0;34m(self, engine)\u001b[0m\n\u001b[1;32m   1133\u001b[0m     \u001b[0;32mdef\u001b[0m \u001b[0m_make_engine\u001b[0m\u001b[0;34m(\u001b[0m\u001b[0mself\u001b[0m\u001b[0;34m,\u001b[0m \u001b[0mengine\u001b[0m\u001b[0;34m=\u001b[0m\u001b[0;34m\"c\"\u001b[0m\u001b[0;34m)\u001b[0m\u001b[0;34m:\u001b[0m\u001b[0;34m\u001b[0m\u001b[0;34m\u001b[0m\u001b[0m\n\u001b[1;32m   1134\u001b[0m         \u001b[0;32mif\u001b[0m \u001b[0mengine\u001b[0m \u001b[0;34m==\u001b[0m \u001b[0;34m\"c\"\u001b[0m\u001b[0;34m:\u001b[0m\u001b[0;34m\u001b[0m\u001b[0;34m\u001b[0m\u001b[0m\n\u001b[0;32m-> 1135\u001b[0;31m             \u001b[0mself\u001b[0m\u001b[0;34m.\u001b[0m\u001b[0m_engine\u001b[0m \u001b[0;34m=\u001b[0m \u001b[0mCParserWrapper\u001b[0m\u001b[0;34m(\u001b[0m\u001b[0mself\u001b[0m\u001b[0;34m.\u001b[0m\u001b[0mf\u001b[0m\u001b[0;34m,\u001b[0m \u001b[0;34m**\u001b[0m\u001b[0mself\u001b[0m\u001b[0;34m.\u001b[0m\u001b[0moptions\u001b[0m\u001b[0;34m)\u001b[0m\u001b[0;34m\u001b[0m\u001b[0;34m\u001b[0m\u001b[0m\n\u001b[0m\u001b[1;32m   1136\u001b[0m         \u001b[0;32melse\u001b[0m\u001b[0;34m:\u001b[0m\u001b[0;34m\u001b[0m\u001b[0;34m\u001b[0m\u001b[0m\n\u001b[1;32m   1137\u001b[0m             \u001b[0;32mif\u001b[0m \u001b[0mengine\u001b[0m \u001b[0;34m==\u001b[0m \u001b[0;34m\"python\"\u001b[0m\u001b[0;34m:\u001b[0m\u001b[0;34m\u001b[0m\u001b[0;34m\u001b[0m\u001b[0m\n",
      "\u001b[0;32m~/anaconda3/lib/python3.7/site-packages/pandas/io/parsers.py\u001b[0m in \u001b[0;36m__init__\u001b[0;34m(self, src, **kwds)\u001b[0m\n\u001b[1;32m   1904\u001b[0m         \u001b[0mkwds\u001b[0m\u001b[0;34m[\u001b[0m\u001b[0;34m\"usecols\"\u001b[0m\u001b[0;34m]\u001b[0m \u001b[0;34m=\u001b[0m \u001b[0mself\u001b[0m\u001b[0;34m.\u001b[0m\u001b[0musecols\u001b[0m\u001b[0;34m\u001b[0m\u001b[0;34m\u001b[0m\u001b[0m\n\u001b[1;32m   1905\u001b[0m \u001b[0;34m\u001b[0m\u001b[0m\n\u001b[0;32m-> 1906\u001b[0;31m         \u001b[0mself\u001b[0m\u001b[0;34m.\u001b[0m\u001b[0m_reader\u001b[0m \u001b[0;34m=\u001b[0m \u001b[0mparsers\u001b[0m\u001b[0;34m.\u001b[0m\u001b[0mTextReader\u001b[0m\u001b[0;34m(\u001b[0m\u001b[0msrc\u001b[0m\u001b[0;34m,\u001b[0m \u001b[0;34m**\u001b[0m\u001b[0mkwds\u001b[0m\u001b[0;34m)\u001b[0m\u001b[0;34m\u001b[0m\u001b[0;34m\u001b[0m\u001b[0m\n\u001b[0m\u001b[1;32m   1907\u001b[0m         \u001b[0mself\u001b[0m\u001b[0;34m.\u001b[0m\u001b[0munnamed_cols\u001b[0m \u001b[0;34m=\u001b[0m \u001b[0mself\u001b[0m\u001b[0;34m.\u001b[0m\u001b[0m_reader\u001b[0m\u001b[0;34m.\u001b[0m\u001b[0munnamed_cols\u001b[0m\u001b[0;34m\u001b[0m\u001b[0;34m\u001b[0m\u001b[0m\n\u001b[1;32m   1908\u001b[0m \u001b[0;34m\u001b[0m\u001b[0m\n",
      "\u001b[0;32mpandas/_libs/parsers.pyx\u001b[0m in \u001b[0;36mpandas._libs.parsers.TextReader.__cinit__\u001b[0;34m()\u001b[0m\n",
      "\u001b[0;32mpandas/_libs/parsers.pyx\u001b[0m in \u001b[0;36mpandas._libs.parsers.TextReader._setup_parser_source\u001b[0;34m()\u001b[0m\n",
      "\u001b[0;31mFileNotFoundError\u001b[0m: [Errno 2] File b'baseline_df.csv' does not exist: b'baseline_df.csv'"
     ]
    }
   ],
   "source": [
    "import math\n",
    "import numpy as np\n",
    "import pandas as pd\n",
    "import matplotlib.pyplot as plt\n",
    "import seaborn as sns\n",
    "import statsmodels.api as sm\n",
    "from sklearn.linear_model import LinearRegression, Ridge, Lasso, ElasticNet, LassoCV, ElasticNetCV\n",
    "ols = LinearRegression()\n",
    "ridge = Ridge()\n",
    "lasso  = Lasso()\n",
    "lassocv = LassoCV()\n",
    "elasticnet = ElasticNet()\n",
    "elasticnetcv = ElasticNetCV()\n",
    "import sklearn.model_selection as ms\n",
    "from sklearn.model_selection import train_test_split\n",
    "from sklearn.model_selection import GridSearchCV\n",
    "import sklearn.feature_selection as fs\n",
    "pd.set_option('display.max_columns', None)\n",
    "pd.set_option('display.max_rows', None)\n",
    "baseline_df=pd.read_csv('baseline_df.csv',index_col='Id')\n",
    "normalized_baseline_df=pd.read_csv('normalized_baseline_df.csv',index_col='Id')\n",
    "standardized_baseline_df=pd.read_csv('standardized_baseline_df.csv',index_col='Id')"
   ]
  },
  {
   "cell_type": "code",
   "execution_count": 118,
   "metadata": {},
   "outputs": [],
   "source": [
    "def dummify_column(dataframe,column_name):\n",
    "    '''\n",
    "    ### NOTE!!! ### vector operation not working yet!!!! ###\n",
    "    - dataframe takes the entire dataframe you are working on\n",
    "    - column_name takes a list of strings, where the strings are the column names\n",
    "    '''\n",
    "    for feature in column_name:\n",
    "        dummified_feature = pd.get_dummies(dataframe.loc[:,feature], prefix=feature, prefix_sep='__',drop_first=True)\n",
    "        dummified_df = pd.concat([dataframe.drop(feature,axis=1),dummified_feature],axis=1,sort='False')\n",
    "    return dummified_df"
   ]
  },
  {
   "cell_type": "code",
   "execution_count": 119,
   "metadata": {},
   "outputs": [],
   "source": [
    "#create month sold dummy variable\n",
    "MoSold = pd.get_dummies(baseline_df.MoSold, prefix='MoSold', prefix_sep='__')"
   ]
  },
  {
   "cell_type": "code",
   "execution_count": 120,
   "metadata": {},
   "outputs": [],
   "source": [
    "#Change MoSold to nominal categorical\n",
    "baseline_df = dummify_column(baseline_df, ['MoSold'])"
   ]
  },
  {
   "cell_type": "code",
   "execution_count": 121,
   "metadata": {},
   "outputs": [],
   "source": [
    "#replace MoSold with MoSold dummy in standardized and and normalized dfs\n",
    "normalized_baseline_df = normalized_baseline_df.drop('MoSold', axis=1)\n",
    "normalized_baseline_df = pd.concat([normalized_baseline_df, MoSold], axis =1)\n",
    "standardized_baseline_df = standardized_baseline_df.drop('MoSold', axis=1)\n",
    "standardized_baseline_df = pd.concat([standardized_baseline_df, MoSold], axis =1)"
   ]
  },
  {
   "cell_type": "markdown",
   "metadata": {},
   "source": [
    "### Functions"
   ]
  },
  {
   "cell_type": "code",
   "execution_count": 26,
   "metadata": {},
   "outputs": [],
   "source": [
    "#define function to split into train and test sets\n",
    "def split_sets(dataframe, seed, test_prop=0.3): \n",
    "    '''\n",
    "    - A function that splits specifically the housing data set into train and test sets\n",
    "    - Requires multiple assignment: trainX, testX, trainY, testY\n",
    "    ---------------\n",
    "    - dataframe: dataframe to be split\n",
    "    - seed: set seed for reproducability\n",
    "    - test_prop: takes a float - proportion of dataframe that should be allocated to the test set\n",
    "    '''\n",
    "\n",
    "    y=dataframe.SalePrice\n",
    "    X=dataframe.drop('SalePrice', axis=1)\n",
    "\n",
    "    np.random.seed(seed)\n",
    "    testIdxes = np.random.choice(range(0,dataframe.shape[0]), size=round(dataframe.shape[0]*test_prop), replace=False)\n",
    "    trainIdxes = list(set(range(0,dataframe.shape[0])) - set(testIdxes))\n",
    "\n",
    "    trainX = X.iloc[trainIdxes,:]\n",
    "    testX  = X.iloc[testIdxes,:]\n",
    "    trainY = y.iloc[trainIdxes]\n",
    "    testY  = y.iloc[testIdxes]\n",
    "    \n",
    "    return trainX, testX, trainY, testY"
   ]
  },
  {
   "cell_type": "code",
   "execution_count": 87,
   "metadata": {},
   "outputs": [],
   "source": [
    "def important_coefs_lasso(model, dataframe):\n",
    "    '''\n",
    "    - A function that returns non-zero coefficients in order from a lasso model output\n",
    "    ---------------\n",
    "    - dataframe: dataframe of model inputs\n",
    "    - model: model object\n",
    "    '''\n",
    "    lassoCoef = pd.Series(model.coef_, index=dataframe.columns)\n",
    "    lassoCoef=lassoCoef[np.abs(lassoCoef)>0]\n",
    "    return lassoCoef.sort_values(ascending=False)"
   ]
  },
  {
   "cell_type": "code",
   "execution_count": 150,
   "metadata": {},
   "outputs": [],
   "source": [
    "def sort_ridge_coefs(model, dataframe):\n",
    "    ridge_coef = pd.Series(model.coef_, index=dataframe.columns)\n",
    "    ridge_coef.sort_values(ascending=False)\n",
    "    order = abs(ridge_coef).sort_values(ascending=False)\n",
    "    return ridge_coef[order.index]"
   ]
  },
  {
   "cell_type": "raw",
   "metadata": {},
   "source": [
    "### Create Train/Test Split"
   ]
  },
  {
   "cell_type": "code",
   "execution_count": 125,
   "metadata": {},
   "outputs": [],
   "source": [
    "trainX, testX, trainY, testY = split_sets(normalized_baseline_df, 0, 0.3)"
   ]
  },
  {
   "cell_type": "markdown",
   "metadata": {},
   "source": [
    "### Lasso Model"
   ]
  },
  {
   "cell_type": "markdown",
   "metadata": {},
   "source": [
    "#### *Grid Search for Optimal Alpha*"
   ]
  },
  {
   "cell_type": "code",
   "execution_count": 126,
   "metadata": {
    "scrolled": true
   },
   "outputs": [
    {
     "data": {
      "text/plain": [
       "GridSearchCV(cv=5, error_score='raise-deprecating',\n",
       "       estimator=Lasso(alpha=1.0, copy_X=True, fit_intercept=True, max_iter=5000,\n",
       "   normalize=False, positive=False, precompute=False, random_state=None,\n",
       "   selection='cyclic', tol=0.0001, warm_start=False),\n",
       "       fit_params=None, iid='warn', n_jobs=None,\n",
       "       param_grid=[{'alpha': array([1.00000e-05, 5.14949e-04, ..., 4.94951e-02, 5.00000e-02])}],\n",
       "       pre_dispatch='2*n_jobs', refit=True, return_train_score=True,\n",
       "       scoring='neg_mean_squared_error', verbose=0)"
      ]
     },
     "execution_count": 126,
     "metadata": {},
     "output_type": "execute_result"
    }
   ],
   "source": [
    "#define alpha range and train lasso model\n",
    "alphaRange = np.linspace(10e-6,0.05,100)\n",
    "\n",
    "grid_param=[{'alpha': alphaRange}]\n",
    "para_search = GridSearchCV(estimator=Lasso(max_iter=5000),\\\n",
    "                           param_grid=grid_param, scoring='neg_mean_squared_error', cv=5, return_train_score=True)\n",
    "para_search.fit(trainX, trainY)"
   ]
  },
  {
   "cell_type": "markdown",
   "metadata": {},
   "source": [
    "#### *Visualize Grid Search Results*"
   ]
  },
  {
   "cell_type": "code",
   "execution_count": 127,
   "metadata": {},
   "outputs": [
    {
     "name": "stdout",
     "output_type": "stream",
     "text": [
      "Best Test MSE: 0.014228193558174633\n",
      "Best Alpha: 0.00101989898989899\n"
     ]
    },
    {
     "data": {
      "image/png": "[encoded data removed]",
      "text/plain": [
       "<Figure size 432x288 with 1 Axes>"
      ]
     },
     "metadata": {
      "needs_background": "light"
     },
     "output_type": "display_data"
    }
   ],
   "source": [
    "#plot cross validation results\n",
    "plt.plot(alphaRange,-1*para_search.cv_results_['mean_test_score'], label=r'test set MSE')\n",
    "plt.plot(alphaRange,-1*para_search.cv_results_['mean_train_score'], label=r'train set MSE')\n",
    "plt.legend(loc=4)\n",
    "\n",
    "plt.xlabel('Alpha=Lambda')\n",
    "plt.ylabel('MSE Score')\n",
    "lasso_best_score = para_search.best_score_\n",
    "lasso_best_alpha = para_search.best_params_['alpha']\n",
    "print('Best Test MSE: %s' %(abs(lasso_best_score)))\n",
    "print('Best Alpha: %s' %(lasso_best_alpha))"
   ]
  },
  {
   "cell_type": "markdown",
   "metadata": {},
   "source": [
    "#### *Lasso Results on Test Set*"
   ]
  },
  {
   "cell_type": "code",
   "execution_count": 128,
   "metadata": {},
   "outputs": [
    {
     "name": "stdout",
     "output_type": "stream",
     "text": [
      "Test MSE: 0.011487644111923797\n",
      "Test RMSE in $$: 15147.53992054188\n"
     ]
    }
   ],
   "source": [
    "lasso.set_params(alpha=lasso_best_alpha, normalize = False)\n",
    "lasso.fit(trainX,trainY)\n",
    "MSE = np.mean((lasso.predict(testX)-testY)**2)\n",
    "RMSE_in_dollars = np.mean((np.exp(lasso.predict(testX))-np.exp(testY))**2)**0.5\n",
    "print('Test MSE: %s' %(MSE))\n",
    "print('Test RMSE in $$: %s' %(RMSE_in_dollars))"
   ]
  },
  {
   "cell_type": "code",
   "execution_count": 129,
   "metadata": {
    "scrolled": true
   },
   "outputs": [
    {
     "data": {
      "text/plain": [
       "SaleType__New            0.098399\n",
       "GrLivArea                0.094545\n",
       "Neighborhood__Crawfor    0.084482\n",
       "OverallQual              0.073172\n",
       "SaleCondition__Normal    0.062633\n",
       "YearBuilt                0.059433\n",
       "Exterior1st__BrkFace     0.054709\n",
       "CentralAir__Y            0.054003\n",
       "Neighborhood__Somerst    0.052920\n",
       "Neighborhood__BrkSide    0.046308\n",
       "OverallCond              0.045120\n",
       "Functional__Typ          0.039565\n",
       "MSZoning__RL             0.033651\n",
       "TotalBsmtSF              0.033527\n",
       "Condition1__Norm         0.031758\n",
       "LotArea                  0.026470\n",
       "BsmtFullBath             0.022949\n",
       "LotConfig__CulDSac       0.019489\n",
       "1stFlrSF                 0.018083\n",
       "GarageQual               0.017793\n",
       "LotFrontage              0.016359\n",
       "FireplaceQu              0.015706\n",
       "Exterior1st__MetalSd     0.015406\n",
       "YearRemodAdd             0.014056\n",
       "GarageArea               0.013953\n",
       "Foundation__PConc        0.013360\n",
       "ScreenPorch__1           0.012775\n",
       "FullBath                 0.012398\n",
       "EnclosedPorch__1         0.011974\n",
       "MasVnrType__Stone        0.010605\n",
       "BsmtQual                 0.010414\n",
       "Neighborhood__StoneBr    0.010305\n",
       "HalfBath                 0.009310\n",
       "MSSubClass__70           0.008625\n",
       "KitchenQual              0.008116\n",
       "HeatingQC                0.008040\n",
       "Electrical__SBrkr        0.007871\n",
       "MoSold__7                0.006784\n",
       "Neighborhood__NAmes      0.006127\n",
       "Neighborhood__NridgHt    0.005528\n",
       "BsmtExposure             0.005472\n",
       "WoodDeckSF__1            0.005389\n",
       "BsmtFinType1__GLQ        0.005213\n",
       "GarageYrBlt              0.004780\n",
       "GarageCars               0.004556\n",
       "ExterQual                0.004348\n",
       "BsmtHalfBath             0.004288\n",
       "GarageType__Detchd       0.001783\n",
       "TotRmsAbvGrd             0.001133\n",
       "BsmtCond                 0.001108\n",
       "Neighborhood__OldTown   -0.001208\n",
       "LotConfig__Inside       -0.001259\n",
       "BsmtFinType1__Rec       -0.001298\n",
       "GarageFinish__Unf       -0.002171\n",
       "ExterCond               -0.002702\n",
       "Neighborhood__Gilbert   -0.003194\n",
       "YrSold                  -0.004570\n",
       "BldgType__Twnhs         -0.006571\n",
       "Neighborhood__MeadowV   -0.010051\n",
       "MSSubClass__160         -0.010509\n",
       "MSSubClass__30          -0.010942\n",
       "Foundation__CBlock      -0.011919\n",
       "Functional__Mod         -0.014889\n",
       "Neighborhood__NWAmes    -0.016297\n",
       "Neighborhood__Edwards   -0.017867\n",
       "Fence__GdWo             -0.021570\n",
       "Alley__No Alley         -0.027731\n",
       "BsmtFinType1__Unf       -0.030246\n",
       "Neighborhood__IDOTRR    -0.036295\n",
       "dtype: float64"
      ]
     },
     "execution_count": 129,
     "metadata": {},
     "output_type": "execute_result"
    }
   ],
   "source": [
    "important_coefs_lasso(lasso, trainX)"
   ]
  },
  {
   "cell_type": "markdown",
   "metadata": {},
   "source": [
    "### Ridge Model"
   ]
  },
  {
   "cell_type": "markdown",
   "metadata": {},
   "source": [
    "#### *Grid Search for Optimal Alpha*"
   ]
  },
  {
   "cell_type": "code",
   "execution_count": 137,
   "metadata": {
    "scrolled": true
   },
   "outputs": [
    {
     "data": {
      "text/plain": [
       "GridSearchCV(cv=5, error_score='raise-deprecating',\n",
       "       estimator=Ridge(alpha=1.0, copy_X=True, fit_intercept=True, max_iter=5000,\n",
       "   normalize=False, random_state=None, solver='auto', tol=0.001),\n",
       "       fit_params=None, iid='warn', n_jobs=None,\n",
       "       param_grid=[{'alpha': array([1.000e-02, 1.020e+00, ..., 9.899e+01, 1.000e+02])}],\n",
       "       pre_dispatch='2*n_jobs', refit=True, return_train_score=True,\n",
       "       scoring='neg_mean_squared_error', verbose=0)"
      ]
     },
     "execution_count": 137,
     "metadata": {},
     "output_type": "execute_result"
    }
   ],
   "source": [
    "#define alpha range and train lasso model\n",
    "r_alphaRange = np.linspace(10e-3,100,100)\n",
    "\n",
    "r_grid_param=[{'alpha': r_alphaRange}]\n",
    "r_para_search = GridSearchCV(estimator=Ridge(max_iter=5000),\\\n",
    "                           param_grid=r_grid_param, scoring='neg_mean_squared_error', cv=5, return_train_score=True)\n",
    "r_para_search.fit(trainX, trainY)"
   ]
  },
  {
   "cell_type": "markdown",
   "metadata": {},
   "source": [
    "#### *Visualize Grid Search Results*"
   ]
  },
  {
   "cell_type": "code",
   "execution_count": 138,
   "metadata": {},
   "outputs": [
    {
     "name": "stdout",
     "output_type": "stream",
     "text": [
      "Best Test MSE: 0.014185866445219285\n",
      "Best Alpha: 17.180000000000003\n"
     ]
    },
    {
     "data": {
      "image/png": "[encoded data removed]",
      "text/plain": [
       "<Figure size 432x288 with 1 Axes>"
      ]
     },
     "metadata": {
      "needs_background": "light"
     },
     "output_type": "display_data"
    }
   ],
   "source": [
    "#plot cross validation results\n",
    "plt.plot(r_alphaRange,-1*r_para_search.cv_results_['mean_test_score'], label=r'test set MSE')\n",
    "plt.plot(r_alphaRange,-1*r_para_search.cv_results_['mean_train_score'], label=r'train set MSE')\n",
    "plt.legend(loc=4)\n",
    "\n",
    "plt.xlabel('Alpha=Lambda')\n",
    "plt.ylabel('MSE Score')\n",
    "ridge_best_score = r_para_search.best_score_\n",
    "ridge_best_alpha = r_para_search.best_params_['alpha']\n",
    "print('Best Test MSE: %s' %(abs(ridge_best_score)))\n",
    "print('Best Alpha: %s' %(ridge_best_alpha))"
   ]
  },
  {
   "cell_type": "markdown",
   "metadata": {},
   "source": [
    "#### *Ridge Results on Test Set*"
   ]
  },
  {
   "cell_type": "code",
   "execution_count": 139,
   "metadata": {},
   "outputs": [
    {
     "name": "stdout",
     "output_type": "stream",
     "text": [
      "Test MSE: 0.012189415902929532\n",
      "Test RMSE in $$: 15605.000919147584\n"
     ]
    }
   ],
   "source": [
    "ridge.set_params(alpha=ridge_best_alpha, normalize = False)\n",
    "ridge.fit(trainX,trainY)\n",
    "MSE = np.mean((ridge.predict(testX)-testY)**2)\n",
    "RMSE_in_dollars = np.mean((np.exp(ridge.predict(testX))-np.exp(testY))**2)**0.5\n",
    "print('Test MSE: %s' %(MSE))\n",
    "print('Test RMSE in $$: %s' %(RMSE_in_dollars))"
   ]
  },
  {
   "cell_type": "code",
   "execution_count": 151,
   "metadata": {},
   "outputs": [
    {
     "data": {
      "text/plain": [
       "OverallQual                      0.065909\n",
       "GrLivArea                        0.061758\n",
       "SaleCondition__Normal            0.060523\n",
       "Neighborhood__Crawfor            0.060099\n",
       "YearBuilt                        0.052918\n",
       "Exterior1st__BrkFace             0.049271\n",
       "SaleType__New                    0.049051\n",
       "Neighborhood__IDOTRR            -0.048672\n",
       "CentralAir__Y                    0.048342\n",
       "OverallCond                      0.042342\n",
       "Functional__Typ                  0.041994\n",
       "Condition1__Norm                 0.039129\n",
       "Functional__Mod                 -0.038402\n",
       "1stFlrSF                         0.037115\n",
       "SaleCondition__Partial           0.037085\n",
       "Neighborhood__MeadowV           -0.036738\n",
       "Neighborhood__Somerst            0.036434\n",
       "Neighborhood__BrkSide            0.036410\n",
       "MSZoning__RL                     0.036300\n",
       "BsmtFinType1__Unf               -0.034944\n",
       "Neighborhood__StoneBr            0.034903\n",
       "TotalBsmtSF                      0.032809\n",
       "2ndFlrSF                         0.030635\n",
       "Neighborhood__NWAmes            -0.030118\n",
       "MSSubClass__70                   0.029817\n",
       "LotConfig__CulDSac               0.029749\n",
       "Neighborhood__Edwards           -0.029397\n",
       "Fence__GdWo                     -0.029256\n",
       "MSZoning__FV                     0.028866\n",
       "Neighborhood__NridgHt            0.028436\n",
       "GarageType__Basment             -0.028226\n",
       "LotArea                          0.028080\n",
       "Alley__No Alley                 -0.028017\n",
       "Neighborhood__Gilbert           -0.025661\n",
       "BldgType__Twnhs                 -0.024848\n",
       "Exterior1st__BrkComm            -0.024568\n",
       "MSSubClass__160                 -0.024285\n",
       "MasVnrType__Stone                0.022938\n",
       "MSSubClass__30                  -0.022523\n",
       "Condition1__PosN                 0.022459\n",
       "BsmtFullBath                     0.021875\n",
       "ScreenPorch__1                   0.021281\n",
       "PoolArea__1                      0.021204\n",
       "Neighborhood__OldTown           -0.020632\n",
       "Heating__GasA                    0.020310\n",
       "Alley__Pave                      0.019157\n",
       "FullBath                         0.019127\n",
       "Electrical__FuseF                0.019097\n",
       "FireplaceQu                      0.019005\n",
       "GarageType__Detchd               0.018512\n",
       "EnclosedPorch__1                 0.018307\n",
       "GarageType__CarPort             -0.018261\n",
       "Electrical__SBrkr                0.018180\n",
       "GarageQual                       0.017330\n",
       "SaleCondition__AdjLand           0.016919\n",
       "Neighborhood__SWISU              0.016825\n",
       "3SsnPorch__1                     0.016736\n",
       "Condition1__RRAe                -0.016689\n",
       "Exterior1st__MetalSd             0.016650\n",
       "LotFrontage                      0.016511\n",
       "Exterior1st__Wd Sdng            -0.015961\n",
       "MSSubClass__190                 -0.015746\n",
       "Foundation__PConc                0.015577\n",
       "YearRemodAdd                     0.015538\n",
       "Heating__Grav                   -0.015535\n",
       "Exterior1st__Stucco              0.015301\n",
       "Neighborhood__NPkVill            0.015254\n",
       "Exterior2nd__HdBoard             0.015075\n",
       "HouseStyle__1.5Unf               0.014487\n",
       "HalfBath                         0.014388\n",
       "BldgType__2fmCon                -0.014351\n",
       "Exterior2nd__Wd Sdng             0.014329\n",
       "LandSlope__Sev                  -0.014168\n",
       "GarageType__BuiltIn              0.014145\n",
       "MSSubClass__180                 -0.014039\n",
       "Street__Pave                     0.013992\n",
       "Neighborhood__NAmes              0.013348\n",
       "LotShape__IR2                    0.013293\n",
       "BsmtFinType1__Rec               -0.013144\n",
       "MSZoning__RM                     0.013089\n",
       "Foundation__CBlock              -0.012928\n",
       "BsmtQual                         0.012758\n",
       "LotConfig__FR2                  -0.012628\n",
       "GarageType__Attchd               0.012509\n",
       "BsmtFinType1__No Basement        0.012468\n",
       "Functional__Maj2                -0.012377\n",
       "BldgType__TwnhsE                -0.012204\n",
       "HouseStyle__2.5Fin              -0.012129\n",
       "GarageFinish__Unf               -0.012120\n",
       "Fence__MnPrv                     0.012104\n",
       "Heating__Wall                    0.012094\n",
       "MSZoning__RH                     0.012080\n",
       "MoSold__7                        0.011960\n",
       "Neighborhood__ClearCr            0.011951\n",
       "Exterior2nd__Brk Cmn            -0.011512\n",
       "Exterior2nd__Stucco              0.011194\n",
       "Heating__GasW                   -0.011129\n",
       "RoofStyle__Hip                  -0.010945\n",
       "GarageArea                       0.010882\n",
       "LandSlope__Mod                   0.010828\n",
       "Neighborhood__Mitchel           -0.010784\n",
       "MoSold__1                       -0.010609\n",
       "LotShape__IR3                   -0.010487\n",
       "Fence__No Fence                  0.010301\n",
       "RoofStyle__Gable                -0.010243\n",
       "MoSold__8                        0.010190\n",
       "Condition1__RRAn                 0.010111\n",
       "BsmtFinType1__GLQ                0.010070\n",
       "MoSold__11                      -0.009956\n",
       "LandContour__Low                -0.009925\n",
       "PavedDrive__Y                    0.009908\n",
       "WoodDeckSF__1                    0.009545\n",
       "Functional__Min2                 0.009038\n",
       "Exterior2nd__CmentBd             0.008917\n",
       "MoSold__10                      -0.008761\n",
       "Exterior1st__CemntBd             0.008686\n",
       "BsmtFinType1__LwQ               -0.008681\n",
       "TotRmsAbvGrd                     0.008440\n",
       "HeatingQC                        0.008432\n",
       "MoSold__2                        0.008405\n",
       "Condition1__Feedr                0.008123\n",
       "GarageFinish__No Garage          0.007975\n",
       "GarageType__No Garage            0.007975\n",
       "MSSubClass__75                   0.007924\n",
       "MoSold__5                        0.007771\n",
       "HouseStyle__2.5Unf               0.007709\n",
       "MSSubClass__60                  -0.007679\n",
       "LotConfig__Inside               -0.007439\n",
       "GarageCars                       0.007422\n",
       "MSSubClass__45                   0.007387\n",
       "Neighborhood__CollgCr           -0.007058\n",
       "MSSubClass__50                   0.006881\n",
       "MSSubClass__90                  -0.006855\n",
       "BldgType__Duplex                -0.006855\n",
       "SaleType__Oth                    0.006849\n",
       "BsmtExposure                     0.006843\n",
       "Exterior2nd__MetalSd             0.006791\n",
       "ExterCond                       -0.006717\n",
       "HouseStyle__2Story              -0.006713\n",
       "GarageYrBlt                      0.006157\n",
       "Condition2__Feedr                0.006112\n",
       "Exterior2nd__Wd Shng            -0.006084\n",
       "MoSold__9                       -0.006083\n",
       "BsmtFinType1__BLQ               -0.005998\n",
       "Exterior2nd__BrkFace             0.005981\n",
       "Neighborhood__NoRidge           -0.005970\n",
       "SaleCondition__Family           -0.005948\n",
       "Neighborhood__Veenker            0.005897\n",
       "GarageFinish__RFn               -0.005887\n",
       "Condition1__PosA                 0.005772\n",
       "HouseStyle__1Story               0.005760\n",
       "KitchenQual                      0.005656\n",
       "RoofMatl__Metal                  0.005588\n",
       "MSSubClass__85                   0.005556\n",
       "YrSold                          -0.005515\n",
       "SaleType__WD                    -0.005509\n",
       "SaleType__CWD                    0.005404\n",
       "SaleType__ConLI                 -0.005376\n",
       "RoofMatl__Roll                  -0.005160\n",
       "BsmtHalfBath                     0.005143\n",
       "MiscFeature__Shed               -0.005044\n",
       "MasVnrType__None                 0.004973\n",
       "MSSubClass__40                   0.004856\n",
       "LotShape__Reg                    0.004763\n",
       "Neighborhood__BrDale            -0.004747\n",
       "MoSold__3                       -0.004679\n",
       "RoofMatl__CompShg               -0.004671\n",
       "Heating__OthW                   -0.004615\n",
       "RoofMatl__Membran                0.004547\n",
       "Functional__Min1                 0.004546\n",
       "RoofStyle__Shed                  0.004350\n",
       "LandContour__HLS                 0.004348\n",
       "BedroomAbvGr                    -0.004271\n",
       "MoSold__6                        0.004239\n",
       "SaleType__ConLD                  0.004177\n",
       "HouseStyle__SLvl                 0.004119\n",
       "SaleType__ConLw                  0.003915\n",
       "RoofStyle__Gambrel               0.003911\n",
       "BsmtCond                         0.003864\n",
       "Neighborhood__SawyerW           -0.003689\n",
       "Exterior1st__HdBoard            -0.003670\n",
       "Condition2__Norm                 0.003544\n",
       "Exterior1st__VinylSd            -0.003463\n",
       "ExterQual                        0.003380\n",
       "Electrical__Mix                 -0.003301\n",
       "Fireplaces                      -0.003107\n",
       "MoSold__4                       -0.003029\n",
       "RoofMatl__Tar&Grv               -0.003027\n",
       "Exterior1st__WdShing             0.002999\n",
       "Exterior2nd__Plywood             0.002985\n",
       "Neighborhood__Timber            -0.002920\n",
       "LandContour__Lvl                -0.002856\n",
       "Exterior2nd__AsphShn            -0.002795\n",
       "Exterior1st__AsphShn            -0.002795\n",
       "OpenPorchSF__1                   0.002725\n",
       "RoofMatl__WdShake                0.002722\n",
       "Exterior2nd__Stone              -0.002529\n",
       "RoofStyle__Mansard              -0.002515\n",
       "Exterior2nd__ImStucc            -0.002440\n",
       "Condition1__RRNe                 0.002426\n",
       "GarageCond                       0.002235\n",
       "LotConfig__FR3                  -0.002118\n",
       "Exterior2nd__VinylSd             0.001706\n",
       "MSSubClass__120                 -0.001668\n",
       "MSSubClass__80                   0.001599\n",
       "Foundation__Slab                 0.001490\n",
       "PavedDrive__P                    0.001457\n",
       "MasVnrType__BrkFace              0.001386\n",
       "Fence__MnWw                     -0.001216\n",
       "Exterior1st__ImStucc             0.001216\n",
       "Condition2__RRNn                -0.001133\n",
       "MasVnrType__No Masonry Veneer   -0.000960\n",
       "Foundation__Stone                0.000952\n",
       "Condition1__RRNn                 0.000737\n",
       "Neighborhood__Sawyer             0.000719\n",
       "MoSold__12                       0.000554\n",
       "MasVnrArea                       0.000484\n",
       "HouseStyle__SFoyer              -0.000368\n",
       "Neighborhood__Blueste           -0.000293\n",
       "Electrical__FuseP               -0.000267\n",
       "SaleCondition__Alloca           -0.000180\n",
       "Exterior1st__Plywood             0.000075\n",
       "Exterior2nd__Other               0.000000\n",
       "SaleType__Con                    0.000000\n",
       "Functional__Sev                  0.000000\n",
       "Foundation__Wood                 0.000000\n",
       "Exterior2nd__CBlock              0.000000\n",
       "Condition2__PosA                 0.000000\n",
       "Exterior1st__Stone               0.000000\n",
       "RoofMatl__WdShngl                0.000000\n",
       "Condition2__RRAn                 0.000000\n",
       "Condition2__RRAe                 0.000000\n",
       "Condition2__PosN                 0.000000\n",
       "Exterior1st__CBlock              0.000000\n",
       "dtype: float64"
      ]
     },
     "execution_count": 151,
     "metadata": {},
     "output_type": "execute_result"
    }
   ],
   "source": [
    "sort_ridge_coefs(ridge, trainX)"
   ]
  },
  {
   "cell_type": "markdown",
   "metadata": {},
   "source": [
    "### Elastic Net Model"
   ]
  },
  {
   "cell_type": "markdown",
   "metadata": {},
   "source": [
    "#### *Grid Search for Optimal Alpha*"
   ]
  },
  {
   "cell_type": "code",
   "execution_count": 214,
   "metadata": {
    "scrolled": true
   },
   "outputs": [
    {
     "data": {
      "text/plain": [
       "GridSearchCV(cv=5, error_score='raise-deprecating',\n",
       "       estimator=ElasticNet(alpha=1.0, copy_X=True, fit_intercept=True, l1_ratio=0.5,\n",
       "      max_iter=2000, normalize=False, positive=False, precompute=False,\n",
       "      random_state=None, selection='cyclic', tol=0.0001, warm_start=False),\n",
       "       fit_params=None, iid='warn', n_jobs=None,\n",
       "       param_grid=[{'alpha': array([1.0000e-03, 2.0301e-01, ..., 1.9798e+01, 2.0000e+01]), 'l1_ratio': array([0.1, 0.2, 0.3, 0.4, 0.5, 0.6, 0.7, 0.8, 0.9, 1. ])}],\n",
       "       pre_dispatch='2*n_jobs', refit=True, return_train_score=True,\n",
       "       scoring='neg_mean_squared_error', verbose=0)"
      ]
     },
     "execution_count": 214,
     "metadata": {},
     "output_type": "execute_result"
    }
   ],
   "source": [
    "#define alpha range and train lasso model\n",
    "alphaSize = 100\n",
    "rhoSize = 10\n",
    "e_alphaRange = np.linspace(10e-4, 20, alphaSize)\n",
    "l1_ratio = np.linspace(0.1, 1, rhoSize)\n",
    "\n",
    "e_grid_param=[{'alpha': e_alphaRange, 'l1_ratio': l1_ratio}]\n",
    "e_para_search = GridSearchCV(estimator=ElasticNet(max_iter=2000),\\\n",
    "                           param_grid=e_grid_param, scoring='neg_mean_squared_error', cv=5, return_train_score=True)\n",
    "e_para_search.fit(trainX, trainY)"
   ]
  },
  {
   "cell_type": "markdown",
   "metadata": {},
   "source": [
    "#### *Output eNet Params*"
   ]
  },
  {
   "cell_type": "code",
   "execution_count": 249,
   "metadata": {},
   "outputs": [
    {
     "name": "stdout",
     "output_type": "stream",
     "text": [
      "Best Test MSE: 0.014185866445219285\n",
      "Best Alpha: 0.001\n",
      "Best Rho: 0.8\n"
     ]
    }
   ],
   "source": [
    "e_best_alpha = e_para_search.best_params_['alpha']\n",
    "e_best_l1ratio = list(e_para_search.best_params_.values())[1]\n",
    "e_best_score = r_para_search.best_score_\n",
    "print('Best Test MSE: %s' %(abs(e_best_score)))\n",
    "print('Best Alpha: %s' %(e_best_alpha))\n",
    "print('Best Rho: %s' %(e_best_l1ratio))"
   ]
  },
  {
   "cell_type": "markdown",
   "metadata": {},
   "source": [
    "#### *eNet Results on Test Set*"
   ]
  },
  {
   "cell_type": "code",
   "execution_count": 252,
   "metadata": {},
   "outputs": [
    {
     "name": "stdout",
     "output_type": "stream",
     "text": [
      "Test MSE: 0.011603745491351382\n",
      "Test RMSE in $$: 15102.589700841503\n"
     ]
    }
   ],
   "source": [
    "elasticnet.set_params(alpha=e_best_alpha, l1_ratio = e_best_l1ratio, normalize = False)\n",
    "elasticnet.fit(trainX,trainY)\n",
    "MSE = np.mean((elasticnet.predict(testX)-testY)**2)\n",
    "RMSE_in_dollars = np.mean((np.exp(elasticnet.predict(testX))-np.exp(testY))**2)**0.5\n",
    "print('Test MSE: %s' %(MSE))\n",
    "print('Test RMSE in $$: %s' %(RMSE_in_dollars))"
   ]
  },
  {
   "cell_type": "code",
   "execution_count": 253,
   "metadata": {},
   "outputs": [
    {
     "data": {
      "text/plain": [
       "SaleType__New                    0.104485\n",
       "GrLivArea                        0.093416\n",
       "Neighborhood__Crawfor            0.091460\n",
       "OverallQual                      0.071104\n",
       "SaleCondition__Normal            0.066548\n",
       "Exterior1st__BrkFace             0.064225\n",
       "YearBuilt                        0.058906\n",
       "CentralAir__Y                    0.057862\n",
       "Neighborhood__Somerst            0.057673\n",
       "Neighborhood__BrkSide            0.048065\n",
       "Neighborhood__IDOTRR            -0.047249\n",
       "OverallCond                      0.045055\n",
       "Functional__Mod                 -0.043296\n",
       "Functional__Typ                  0.038954\n",
       "Condition1__Norm                 0.034826\n",
       "Neighborhood__StoneBr            0.033259\n",
       "Alley__No Alley                 -0.032182\n",
       "TotalBsmtSF                      0.032123\n",
       "BsmtFinType1__Unf               -0.031955\n",
       "MSZoning__RL                     0.029844\n",
       "Fence__GdWo                     -0.027797\n",
       "Neighborhood__MeadowV           -0.027345\n",
       "LotArea                          0.026832\n",
       "LotConfig__CulDSac               0.024532\n",
       "BsmtFullBath                     0.022553\n",
       "Neighborhood__NWAmes            -0.022303\n",
       "Neighborhood__Edwards           -0.021019\n",
       "GarageType__Basment             -0.019412\n",
       "MSSubClass__160                 -0.018749\n",
       "1stFlrSF                         0.018650\n",
       "GarageQual                       0.017698\n",
       "Neighborhood__NridgHt            0.017529\n",
       "Exterior1st__MetalSd             0.016842\n",
       "LotFrontage                      0.016526\n",
       "ScreenPorch__1                   0.016049\n",
       "Foundation__PConc                0.015966\n",
       "FireplaceQu                      0.015643\n",
       "EnclosedPorch__1                 0.014902\n",
       "YearRemodAdd                     0.014076\n",
       "MSSubClass__30                  -0.013904\n",
       "FullBath                         0.013858\n",
       "MSSubClass__70                   0.013714\n",
       "MasVnrType__Stone                0.013606\n",
       "GarageArea                       0.013385\n",
       "BldgType__Twnhs                 -0.012215\n",
       "BsmtQual                         0.010573\n",
       "Foundation__CBlock              -0.010323\n",
       "HalfBath                         0.010091\n",
       "Electrical__SBrkr                0.009565\n",
       "Neighborhood__OldTown           -0.009370\n",
       "Neighborhood__Gilbert           -0.009016\n",
       "MoSold__7                        0.008040\n",
       "HeatingQC                        0.007763\n",
       "KitchenQual                      0.007138\n",
       "WoodDeckSF__1                    0.006821\n",
       "Neighborhood__NAmes              0.006110\n",
       "MSSubClass__190                 -0.006067\n",
       "BsmtExposure                     0.005908\n",
       "BsmtFinType1__Rec               -0.005395\n",
       "BsmtFinType1__GLQ                0.005374\n",
       "GarageYrBlt                      0.004622\n",
       "BsmtHalfBath                     0.004468\n",
       "YrSold                          -0.004457\n",
       "GarageCars                       0.004316\n",
       "GarageType__Detchd               0.004133\n",
       "ExterCond                       -0.003808\n",
       "GarageFinish__Unf               -0.003559\n",
       "ExterQual                        0.002882\n",
       "TotRmsAbvGrd                     0.002758\n",
       "BsmtCond                         0.001877\n",
       "LotConfig__Inside               -0.001613\n",
       "Exterior2nd__HdBoard             0.001193\n",
       "Exterior1st__Wd Sdng            -0.001025\n",
       "MoSold__5                        0.000991\n",
       "BedroomAbvGr                    -0.000320\n",
       "Condition1__RRAe                -0.000000\n",
       "Condition1__Feedr                0.000000\n",
       "HouseStyle__2Story              -0.000000\n",
       "HouseStyle__2.5Unf               0.000000\n",
       "Condition1__PosN                 0.000000\n",
       "Condition1__PosA                 0.000000\n",
       "BldgType__2fmCon                -0.000000\n",
       "HouseStyle__SFoyer              -0.000000\n",
       "HouseStyle__2.5Fin              -0.000000\n",
       "Condition2__RRNn                 0.000000\n",
       "Condition1__RRAn                 0.000000\n",
       "Condition1__RRNe                 0.000000\n",
       "Condition1__RRNn                -0.000000\n",
       "Condition2__Feedr                0.000000\n",
       "Condition2__Norm                 0.000000\n",
       "HouseStyle__1Story               0.000000\n",
       "HouseStyle__1.5Unf               0.000000\n",
       "Condition2__PosA                 0.000000\n",
       "BldgType__TwnhsE                -0.000000\n",
       "Neighborhood__Veenker            0.000000\n",
       "BldgType__Duplex                -0.000000\n",
       "Condition2__RRAe                 0.000000\n",
       "Condition2__RRAn                 0.000000\n",
       "Condition2__PosN                 0.000000\n",
       "LotConfig__FR3                  -0.000000\n",
       "Neighborhood__Timber             0.000000\n",
       "LandContour__Low                -0.000000\n",
       "MasVnrArea                      -0.000000\n",
       "2ndFlrSF                         0.000000\n",
       "Fireplaces                      -0.000000\n",
       "GarageCond                       0.000000\n",
       "MSZoning__FV                     0.000000\n",
       "MSZoning__RH                     0.000000\n",
       "MSZoning__RM                    -0.000000\n",
       "Street__Pave                     0.000000\n",
       "Alley__Pave                      0.000000\n",
       "LotShape__IR2                    0.000000\n",
       "LotShape__IR3                   -0.000000\n",
       "LotShape__Reg                    0.000000\n",
       "LandContour__HLS                 0.000000\n",
       "LandContour__Lvl                -0.000000\n",
       "Neighborhood__SawyerW           -0.000000\n",
       "LotConfig__FR2                  -0.000000\n",
       "RoofStyle__Gable                -0.000000\n",
       "LandSlope__Mod                   0.000000\n",
       "LandSlope__Sev                  -0.000000\n",
       "Neighborhood__Blueste           -0.000000\n",
       "Neighborhood__BrDale            -0.000000\n",
       "Neighborhood__ClearCr            0.000000\n",
       "Neighborhood__CollgCr           -0.000000\n",
       "Neighborhood__Mitchel           -0.000000\n",
       "Neighborhood__NPkVill            0.000000\n",
       "Neighborhood__NoRidge           -0.000000\n",
       "Neighborhood__SWISU              0.000000\n",
       "Neighborhood__Sawyer             0.000000\n",
       "HouseStyle__SLvl                 0.000000\n",
       "MoSold__12                      -0.000000\n",
       "RoofStyle__Gambrel               0.000000\n",
       "PavedDrive__Y                    0.000000\n",
       "SaleType__Oth                    0.000000\n",
       "SaleType__ConLw                  0.000000\n",
       "SaleType__ConLI                 -0.000000\n",
       "SaleType__ConLD                  0.000000\n",
       "SaleType__Con                    0.000000\n",
       "SaleType__CWD                    0.000000\n",
       "MiscFeature__Shed               -0.000000\n",
       "Fence__No Fence                  0.000000\n",
       "Fence__MnWw                     -0.000000\n",
       "Fence__MnPrv                     0.000000\n",
       "PavedDrive__P                    0.000000\n",
       "SaleCondition__AdjLand           0.000000\n",
       "GarageFinish__RFn               -0.000000\n",
       "GarageFinish__No Garage          0.000000\n",
       "GarageType__No Garage            0.000000\n",
       "GarageType__CarPort             -0.000000\n",
       "GarageType__BuiltIn              0.000000\n",
       "GarageType__Attchd               0.000000\n",
       "Functional__Sev                  0.000000\n",
       "Functional__Min2                 0.000000\n",
       "Functional__Min1                 0.000000\n",
       "Functional__Maj2                -0.000000\n",
       "SaleType__WD                    -0.000000\n",
       "SaleCondition__Alloca           -0.000000\n",
       "RoofStyle__Hip                  -0.000000\n",
       "OpenPorchSF__1                   0.000000\n",
       "MoSold__10                      -0.000000\n",
       "MoSold__9                       -0.000000\n",
       "MoSold__8                        0.000000\n",
       "MoSold__6                        0.000000\n",
       "MoSold__4                       -0.000000\n",
       "MoSold__3                       -0.000000\n",
       "MoSold__2                        0.000000\n",
       "MoSold__1                       -0.000000\n",
       "PoolArea__1                      0.000000\n",
       "3SsnPorch__1                     0.000000\n",
       "MSSubClass__180                 -0.000000\n",
       "SaleCondition__Family           -0.000000\n",
       "MSSubClass__120                  0.000000\n",
       "MSSubClass__90                  -0.000000\n",
       "MSSubClass__85                   0.000000\n",
       "MSSubClass__80                   0.000000\n",
       "MSSubClass__75                   0.000000\n",
       "MSSubClass__60                  -0.000000\n",
       "MSSubClass__50                   0.000000\n",
       "MSSubClass__45                   0.000000\n",
       "MSSubClass__40                   0.000000\n",
       "SaleCondition__Partial           0.000000\n",
       "Electrical__Mix                 -0.000000\n",
       "Electrical__FuseP               -0.000000\n",
       "Electrical__FuseF                0.000000\n",
       "MoSold__11                      -0.000000\n",
       "Exterior2nd__Brk Cmn            -0.000000\n",
       "Exterior2nd__AsphShn            -0.000000\n",
       "Exterior1st__WdShing             0.000000\n",
       "Exterior1st__VinylSd            -0.000000\n",
       "Exterior1st__Stucco              0.000000\n",
       "Exterior1st__Stone               0.000000\n",
       "Exterior1st__Plywood            -0.000000\n",
       "Exterior1st__ImStucc             0.000000\n",
       "Exterior1st__HdBoard             0.000000\n",
       "Exterior1st__CemntBd             0.000000\n",
       "Exterior1st__BrkComm            -0.000000\n",
       "Heating__Wall                    0.000000\n",
       "Exterior1st__AsphShn            -0.000000\n",
       "RoofMatl__WdShngl                0.000000\n",
       "RoofMatl__WdShake                0.000000\n",
       "RoofMatl__Tar&Grv                0.000000\n",
       "RoofMatl__Roll                  -0.000000\n",
       "RoofMatl__Metal                  0.000000\n",
       "RoofMatl__Membran                0.000000\n",
       "RoofMatl__CompShg               -0.000000\n",
       "RoofStyle__Shed                  0.000000\n",
       "RoofStyle__Mansard              -0.000000\n",
       "Exterior2nd__BrkFace            -0.000000\n",
       "Exterior2nd__CBlock              0.000000\n",
       "Exterior2nd__CmentBd             0.000000\n",
       "Exterior2nd__ImStucc            -0.000000\n",
       "Heating__OthW                   -0.000000\n",
       "Heating__Grav                   -0.000000\n",
       "Heating__GasW                   -0.000000\n",
       "Heating__GasA                    0.000000\n",
       "BsmtFinType1__No Basement        0.000000\n",
       "BsmtFinType1__LwQ               -0.000000\n",
       "BsmtFinType1__BLQ               -0.000000\n",
       "Foundation__Wood                 0.000000\n",
       "Foundation__Stone                0.000000\n",
       "Foundation__Slab                 0.000000\n",
       "MasVnrType__None                 0.000000\n",
       "MasVnrType__No Masonry Veneer   -0.000000\n",
       "MasVnrType__BrkFace             -0.000000\n",
       "Exterior2nd__Wd Shng            -0.000000\n",
       "Exterior2nd__Wd Sdng            -0.000000\n",
       "Exterior2nd__VinylSd            -0.000000\n",
       "Exterior2nd__Stucco              0.000000\n",
       "Exterior2nd__Stone              -0.000000\n",
       "Exterior2nd__Plywood            -0.000000\n",
       "Exterior2nd__Other               0.000000\n",
       "Exterior2nd__MetalSd             0.000000\n",
       "Exterior1st__CBlock              0.000000\n",
       "dtype: float64"
      ]
     },
     "execution_count": 253,
     "metadata": {},
     "output_type": "execute_result"
    }
   ],
   "source": [
    "sort_ridge_coefs(elasticnet, trainX)"
   ]
  }
 ],
 "metadata": {
  "kernelspec": {
   "display_name": "Python 3",
   "language": "python",
   "name": "python3"
  },
  "language_info": {
   "codemirror_mode": {
    "name": "ipython",
    "version": 3
   },
   "file_extension": ".py",
   "mimetype": "text/x-python",
   "name": "python",
   "nbconvert_exporter": "python",
   "pygments_lexer": "ipython3",
   "version": "3.7.4"
  }
 },
 "nbformat": 4,
 "nbformat_minor": 2
}
