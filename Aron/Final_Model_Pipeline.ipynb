{
 "cells": [
  {
   "cell_type": "code",
   "execution_count": 8,
   "metadata": {},
   "outputs": [],
   "source": [
    "import math\n",
    "import numpy as np\n",
    "import pandas as pd\n",
    "import matplotlib.pyplot as plt\n",
    "import seaborn as sns\n",
    "import statsmodels.api as sm\n",
    "from sklearn.linear_model import LinearRegression, Ridge, Lasso, ElasticNet, LassoCV, ElasticNetCV\n",
    "ols = LinearRegression()\n",
    "ridge = Ridge()\n",
    "lasso  = Lasso()\n",
    "lassocv = LassoCV()\n",
    "elasticnet = ElasticNet()\n",
    "elasticnetcv = ElasticNetCV()\n",
    "import sklearn.model_selection as ms\n",
    "from sklearn.model_selection import train_test_split\n",
    "from sklearn.model_selection import GridSearchCV\n",
    "import sklearn.feature_selection as fs\n",
    "pd.set_option('display.max_columns', None)\n",
    "pd.set_option('display.max_rows', None)\n",
    "# The tree model\n",
    "from sklearn import tree\n",
    "# Instantiating the tree model (regression type)\n",
    "regressor = tree.DecisionTreeRegressor()\n",
    "# The ensemble model for random forest and bagging\n",
    "from sklearn import ensemble\n",
    "# Instantiating the ensemble models\n",
    "randomForest = ensemble.RandomForestRegressor()\n",
    "bagging      = ensemble.BaggingRegressor()\n",
    "gbm          = ensemble.GradientBoostingRegressor()\n",
    "abr          = ensemble.AdaBoostRegressor()\n",
    "from sklearn import metrics"
   ]
  },
  {
   "cell_type": "markdown",
   "metadata": {},
   "source": [
    "### Functions"
   ]
  },
  {
   "cell_type": "code",
   "execution_count": 9,
   "metadata": {},
   "outputs": [],
   "source": [
    "#define function to split into train and test sets\n",
    "def split_sets(dataframe, seed, test_prop=0.3): \n",
    "    '''\n",
    "    - A function that splits specifically the housing data set into train and test sets\n",
    "    - Requires multiple assignment: trainX, testX, trainY, testY\n",
    "    ---------------\n",
    "    - dataframe: dataframe to be split\n",
    "    - seed: set seed for reproducability\n",
    "    - test_prop: takes a float - proportion of dataframe that should be allocated to the test set\n",
    "    '''\n",
    "\n",
    "    y=dataframe.SalePrice\n",
    "    X=dataframe.drop('SalePrice', axis=1)\n",
    "\n",
    "    np.random.seed(seed)\n",
    "    testIdxes = np.random.choice(range(0,dataframe.shape[0]), size=round(dataframe.shape[0]*test_prop), replace=False)\n",
    "    trainIdxes = list(set(range(0,dataframe.shape[0])) - set(testIdxes))\n",
    "\n",
    "    trainX = X.iloc[trainIdxes,:]\n",
    "    testX  = X.iloc[testIdxes,:]\n",
    "    trainY = y.iloc[trainIdxes]\n",
    "    testY  = y.iloc[testIdxes]\n",
    "    \n",
    "    return trainX, testX, trainY, testY"
   ]
  },
  {
   "cell_type": "code",
   "execution_count": 10,
   "metadata": {},
   "outputs": [],
   "source": [
    "def important_coefs_lasso(model, dataframe):\n",
    "    '''\n",
    "    - A function that returns non-zero coefficients in order from a lasso model output\n",
    "    ---------------\n",
    "    - dataframe: dataframe of model inputs\n",
    "    - model: model object\n",
    "    '''\n",
    "    lassoCoef = pd.Series(model.coef_, index=dataframe.columns)\n",
    "    lassoCoef=lassoCoef[np.abs(lassoCoef)>0]\n",
    "    return lassoCoef.sort_values(ascending=False)"
   ]
  },
  {
   "cell_type": "code",
   "execution_count": 11,
   "metadata": {},
   "outputs": [],
   "source": [
    "def sort_ridge_coefs(model, dataframe):\n",
    "    ridge_coef = pd.Series(model.coef_, index=dataframe.columns)\n",
    "    ridge_coef.sort_values(ascending=False)\n",
    "    order = abs(ridge_coef).sort_values(ascending=False)\n",
    "    return ridge_coef[order.index]"
   ]
  },
  {
   "cell_type": "markdown",
   "metadata": {},
   "source": [
    "### Create Train/Test Split"
   ]
  },
  {
   "cell_type": "code",
   "execution_count": 13,
   "metadata": {},
   "outputs": [],
   "source": [
    "#read in dataframe, give the dataset a unique name\n",
    "df = pd.read_csv('purged_dummified_grouped_baseline_df', index_col='Id')"
   ]
  },
  {
   "cell_type": "code",
   "execution_count": 15,
   "metadata": {},
   "outputs": [],
   "source": [
    "trainX, testX, trainY, testY = split_sets(df, 0, 0.3)"
   ]
  },
  {
   "cell_type": "markdown",
   "metadata": {},
   "source": [
    "### Lasso Model"
   ]
  },
  {
   "cell_type": "markdown",
   "metadata": {},
   "source": [
    "#### *Grid Search for Optimal Alpha*"
   ]
  },
  {
   "cell_type": "code",
   "execution_count": 16,
   "metadata": {
    "scrolled": true
   },
   "outputs": [
    {
     "data": {
      "text/plain": [
       "GridSearchCV(cv=5, error_score='raise-deprecating',\n",
       "       estimator=Lasso(alpha=1.0, copy_X=True, fit_intercept=True, max_iter=5000,\n",
       "   normalize=False, positive=False, precompute=False, random_state=None,\n",
       "   selection='cyclic', tol=0.0001, warm_start=False),\n",
       "       fit_params=None, iid='warn', n_jobs=None,\n",
       "       param_grid=[{'alpha': array([1.00000e-05, 5.14949e-04, ..., 4.94951e-02, 5.00000e-02])}],\n",
       "       pre_dispatch='2*n_jobs', refit=True, return_train_score=True,\n",
       "       scoring='neg_mean_squared_error', verbose=0)"
      ]
     },
     "execution_count": 16,
     "metadata": {},
     "output_type": "execute_result"
    }
   ],
   "source": [
    "#define alpha range and train lasso model\n",
    "alphaRange = np.linspace(10e-6,0.05,100)\n",
    "\n",
    "grid_param=[{'alpha': alphaRange}]\n",
    "para_search = GridSearchCV(estimator=Lasso(max_iter=5000),\\\n",
    "                           param_grid=grid_param, scoring='neg_mean_squared_error', cv=5, return_train_score=True)\n",
    "para_search.fit(trainX, trainY)"
   ]
  },
  {
   "cell_type": "markdown",
   "metadata": {},
   "source": [
    "#### *Visualize Grid Search Results*"
   ]
  },
  {
   "cell_type": "code",
   "execution_count": 17,
   "metadata": {},
   "outputs": [
    {
     "name": "stdout",
     "output_type": "stream",
     "text": [
      "Best Test MSE: 0.00829675126648495\n",
      "Best Alpha: 0.00101989898989899\n"
     ]
    },
    {
     "data": {
      "image/png": "[encoded data removed]",
      "text/plain": [
       "<Figure size 432x288 with 1 Axes>"
      ]
     },
     "metadata": {
      "needs_background": "light"
     },
     "output_type": "display_data"
    }
   ],
   "source": [
    "#plot cross validation results\n",
    "plt.plot(alphaRange,-1*para_search.cv_results_['mean_test_score'], label=r'test set MSE')\n",
    "plt.plot(alphaRange,-1*para_search.cv_results_['mean_train_score'], label=r'train set MSE')\n",
    "plt.legend(loc=4)\n",
    "\n",
    "plt.xlabel('Alpha=Lambda')\n",
    "plt.ylabel('MSE Score')\n",
    "lasso_best_score = para_search.best_score_\n",
    "lasso_best_alpha = para_search.best_params_['alpha']\n",
    "print('Best Test MSE: %s' %(abs(lasso_best_score)))\n",
    "print('Best Alpha: %s' %(lasso_best_alpha))"
   ]
  },
  {
   "cell_type": "markdown",
   "metadata": {},
   "source": [
    "#### *Lasso Results on Test Set*"
   ]
  },
  {
   "cell_type": "code",
   "execution_count": 18,
   "metadata": {},
   "outputs": [
    {
     "name": "stdout",
     "output_type": "stream",
     "text": [
      "Test MSE: 0.010481788728254946\n",
      "Test RMSE in $$: 14124.639160126959\n"
     ]
    }
   ],
   "source": [
    "lasso.set_params(alpha=lasso_best_alpha, normalize = False)\n",
    "lasso.fit(trainX,trainY)\n",
    "l_MSE = np.mean((lasso.predict(testX)-testY)**2)\n",
    "l_RMSE_in_dollars = np.mean((np.exp(lasso.predict(testX))-np.exp(testY))**2)**0.5\n",
    "print('Test MSE: %s' %(l_MSE))\n",
    "print('Test RMSE in $$: %s' %(l_RMSE_in_dollars))"
   ]
  },
  {
   "cell_type": "code",
   "execution_count": 19,
   "metadata": {
    "scrolled": false
   },
   "outputs": [
    {
     "data": {
      "text/plain": [
       "RoofMatl__4         0.190173\n",
       "Neighborhood__16    0.076223\n",
       "RoofMatl__1         0.072725\n",
       "YearBuilt           0.050614\n",
       "GrLivArea           0.050178\n",
       "OverallQual         0.045080\n",
       "OverallCond         0.033224\n",
       "Condition2__3       0.024561\n",
       "Neighborhood__7     0.022545\n",
       "Fence__1            0.017743\n",
       "TotalBsmtSF         0.017651\n",
       "GarageArea          0.014835\n",
       "1stFlrSF            0.013469\n",
       "BsmtFullBath        0.012692\n",
       "GarageCond          0.011832\n",
       "LotArea             0.011229\n",
       "Neighborhood__8     0.010752\n",
       "MSZoning__1         0.010135\n",
       "Neighborhood__17    0.009511\n",
       "HalfBath            0.009289\n",
       "KitchenQual         0.008882\n",
       "LotFrontage         0.008466\n",
       "FireplaceQu         0.008372\n",
       "BsmtFinType1__2     0.007729\n",
       "BsmtExposure        0.007026\n",
       "SaleCondition__2    0.005865\n",
       "Foundation__3       0.005468\n",
       "MSSubClass__2       0.004066\n",
       "YearRemodAdd        0.003828\n",
       "Exterior1st__3      0.003617\n",
       "BsmtHalfBath        0.003003\n",
       "ExterQual           0.002905\n",
       "ExterCond           0.001957\n",
       "GarageFinish__2     0.001953\n",
       "BsmtQual            0.001846\n",
       "HeatingQC           0.001470\n",
       "Condition2__4       0.001146\n",
       "FullBath            0.000577\n",
       "Exterior1st__7     -0.001943\n",
       "LotConfig__1       -0.002161\n",
       "YrSold             -0.002193\n",
       "Exterior2nd__7     -0.002250\n",
       "MoSold             -0.002331\n",
       "BedroomAbvGr       -0.003020\n",
       "BsmtFinType1__5    -0.004845\n",
       "BsmtFinType1__6    -0.004953\n",
       "GarageFinish__1    -0.012696\n",
       "Neighborhood__2    -0.015201\n",
       "MSSubClass__4      -0.020170\n",
       "SaleCondition__1   -0.029554\n",
       "RoofMatl__2        -0.031829\n",
       "Neighborhood__6    -0.042714\n",
       "Heating__2         -0.054298\n",
       "Condition2__1      -0.204323\n",
       "dtype: float64"
      ]
     },
     "execution_count": 19,
     "metadata": {},
     "output_type": "execute_result"
    }
   ],
   "source": [
    "important_coefs_lasso(lasso, trainX)"
   ]
  },
  {
   "cell_type": "markdown",
   "metadata": {},
   "source": [
    "### Ridge Model"
   ]
  },
  {
   "cell_type": "markdown",
   "metadata": {},
   "source": [
    "#### *Grid Search for Optimal Alpha*"
   ]
  },
  {
   "cell_type": "code",
   "execution_count": 20,
   "metadata": {
    "scrolled": true
   },
   "outputs": [
    {
     "data": {
      "text/plain": [
       "GridSearchCV(cv=5, error_score='raise-deprecating',\n",
       "       estimator=Ridge(alpha=1.0, copy_X=True, fit_intercept=True, max_iter=5000,\n",
       "   normalize=False, random_state=None, solver='auto', tol=0.001),\n",
       "       fit_params=None, iid='warn', n_jobs=None,\n",
       "       param_grid=[{'alpha': array([1.000e-02, 1.020e+00, ..., 9.899e+01, 1.000e+02])}],\n",
       "       pre_dispatch='2*n_jobs', refit=True, return_train_score=True,\n",
       "       scoring='neg_mean_squared_error', verbose=0)"
      ]
     },
     "execution_count": 20,
     "metadata": {},
     "output_type": "execute_result"
    }
   ],
   "source": [
    "#define alpha range and train ridge model\n",
    "r_alphaRange = np.linspace(10e-3,100,100)\n",
    "\n",
    "r_grid_param=[{'alpha': r_alphaRange}]\n",
    "r_para_search = GridSearchCV(estimator=Ridge(max_iter=5000),\\\n",
    "                           param_grid=r_grid_param, scoring='neg_mean_squared_error', cv=5, return_train_score=True)\n",
    "r_para_search.fit(trainX, trainY)"
   ]
  },
  {
   "cell_type": "markdown",
   "metadata": {},
   "source": [
    "#### *Visualize Grid Search Results*"
   ]
  },
  {
   "cell_type": "code",
   "execution_count": 21,
   "metadata": {},
   "outputs": [
    {
     "name": "stdout",
     "output_type": "stream",
     "text": [
      "Best Test MSE: 0.008584510271319378\n",
      "Best Alpha: 8.09\n"
     ]
    },
    {
     "data": {
      "image/png": "[encoded data removed]",
      "text/plain": [
       "<Figure size 432x288 with 1 Axes>"
      ]
     },
     "metadata": {
      "needs_background": "light"
     },
     "output_type": "display_data"
    }
   ],
   "source": [
    "#plot cross validation results\n",
    "plt.plot(r_alphaRange,-1*r_para_search.cv_results_['mean_test_score'], label=r'test set MSE')\n",
    "plt.plot(r_alphaRange,-1*r_para_search.cv_results_['mean_train_score'], label=r'train set MSE')\n",
    "plt.legend(loc=4)\n",
    "\n",
    "plt.xlabel('Alpha=Lambda')\n",
    "plt.ylabel('MSE Score')\n",
    "ridge_best_score = r_para_search.best_score_\n",
    "ridge_best_alpha = r_para_search.best_params_['alpha']\n",
    "print('Best Test MSE: %s' %(abs(ridge_best_score)))\n",
    "print('Best Alpha: %s' %(ridge_best_alpha))"
   ]
  },
  {
   "cell_type": "markdown",
   "metadata": {},
   "source": [
    "#### *Ridge Results on Test Set*"
   ]
  },
  {
   "cell_type": "code",
   "execution_count": 22,
   "metadata": {},
   "outputs": [
    {
     "name": "stdout",
     "output_type": "stream",
     "text": [
      "Test MSE: 0.010609656261846004\n",
      "Test RMSE in $$: 13764.283657420083\n"
     ]
    }
   ],
   "source": [
    "ridge.set_params(alpha=ridge_best_alpha, normalize = False)\n",
    "ridge.fit(trainX,trainY)\n",
    "r_MSE = np.mean((ridge.predict(testX)-testY)**2)\n",
    "r_RMSE_in_dollars = np.mean((np.exp(ridge.predict(testX))-np.exp(testY))**2)**0.5\n",
    "print('Test MSE: %s' %(r_MSE))\n",
    "print('Test RMSE in $$: %s' %(r_RMSE_in_dollars))"
   ]
  },
  {
   "cell_type": "code",
   "execution_count": 23,
   "metadata": {},
   "outputs": [
    {
     "data": {
      "text/plain": [
       "RoofMatl__2        -0.107053\n",
       "Condition2__1      -0.107053\n",
       "RoofMatl__4         0.103818\n",
       "Condition2__3       0.082542\n",
       "Neighborhood__16    0.079224\n",
       "Neighborhood__6    -0.058630\n",
       "Heating__2         -0.051136\n",
       "YearBuilt           0.047915\n",
       "OverallQual         0.042578\n",
       "Neighborhood__17    0.037183\n",
       "GrLivArea           0.036333\n",
       "MSSubClass__4      -0.035933\n",
       "SaleCondition__1   -0.035505\n",
       "Condition2__4       0.035411\n",
       "MSZoning__2         0.033508\n",
       "OverallCond         0.033411\n",
       "Neighborhood__7     0.033217\n",
       "Neighborhood__2    -0.030395\n",
       "RoofMatl__1         0.029886\n",
       "1stFlrSF            0.028181\n",
       "MSZoning__1         0.026912\n",
       "Heating__1         -0.025888\n",
       "MSSubClass__5      -0.023024\n",
       "Fence__1            0.022849\n",
       "Neighborhood__8     0.021399\n",
       "Exterior1st__3      0.019225\n",
       "BsmtFinType1__5    -0.018339\n",
       "BldgType__1         0.017874\n",
       "GarageFinish__1    -0.017868\n",
       "MSSubClass__8       0.017712\n",
       "MSSubClass__6      -0.016980\n",
       "TotalBsmtSF         0.016631\n",
       "2ndFlrSF            0.016416\n",
       "BsmtFinType1__6    -0.016053\n",
       "Exterior2nd__7     -0.015415\n",
       "GarageCond          0.015391\n",
       "Exterior1st__6      0.014921\n",
       "Exterior2nd__4      0.014601\n",
       "GarageArea          0.014173\n",
       "BsmtFullBath        0.014090\n",
       "BldgType__2         0.013267\n",
       "Exterior1st__7     -0.013061\n",
       "LotArea             0.012714\n",
       "HalfBath            0.012669\n",
       "Neighborhood__5    -0.012478\n",
       "SaleCondition__2    0.012080\n",
       "HouseStyle__4      -0.011675\n",
       "Foundation__3       0.011403\n",
       "GarageType__3       0.010924\n",
       "HouseStyle__1       0.010881\n",
       "MasVnrType__2      -0.010328\n",
       "LotFrontage         0.010323\n",
       "LotConfig__1       -0.010214\n",
       "BsmtExposure        0.009578\n",
       "MasVnrType__1      -0.009528\n",
       "FireplaceQu         0.009290\n",
       "Exterior2nd__3      0.009181\n",
       "GarageFinish__2     0.009059\n",
       "Exterior2nd__2     -0.008944\n",
       "GarageFinish__3     0.008902\n",
       "KitchenQual         0.008624\n",
       "Neighborhood__9    -0.008236\n",
       "BedroomAbvGr       -0.007992\n",
       "Foundation__2      -0.007917\n",
       "BsmtFinType1__2     0.007608\n",
       "Exterior2nd__6     -0.007594\n",
       "Neighborhood__3    -0.007151\n",
       "MSSubClass__7      -0.006680\n",
       "BsmtFinType1__1     0.006627\n",
       "MSSubClass__2       0.006575\n",
       "MSSubClass__3       0.006540\n",
       "GarageType__1       0.006358\n",
       "GarageType__2       0.005707\n",
       "BsmtFinType1__3    -0.005568\n",
       "Exterior2nd__1     -0.005397\n",
       "Neighborhood__14   -0.005180\n",
       "Exterior1st__4     -0.005092\n",
       "MSSubClass__1       0.004539\n",
       "FullBath            0.004497\n",
       "YearRemodAdd        0.004242\n",
       "GarageYrBlt        -0.004163\n",
       "BsmtHalfBath        0.004021\n",
       "MSSubClass__9       0.003945\n",
       "HouseStyle__3       0.003817\n",
       "MSSubClass__10      0.003770\n",
       "YrSold             -0.003715\n",
       "GarageCars          0.003456\n",
       "Exterior1st__2      0.003415\n",
       "GarageQual         -0.003225\n",
       "MoSold             -0.003168\n",
       "TotRmsAbvGrd        0.003144\n",
       "Fence__2            0.003126\n",
       "HouseStyle__2      -0.003080\n",
       "BsmtCond            0.002750\n",
       "ExterCond           0.002334\n",
       "ExterQual          -0.002264\n",
       "Exterior1st__5      0.002249\n",
       "Neighborhood__4    -0.002191\n",
       "BsmtQual            0.002180\n",
       "Exterior1st__1     -0.001432\n",
       "Neighborhood__1     0.001250\n",
       "HeatingQC           0.001225\n",
       "BsmtFinType1__4     0.001220\n",
       "Fireplaces         -0.001205\n",
       "Neighborhood__11    0.000969\n",
       "MasVnrArea         -0.000134\n",
       "LotConfig__2        0.000038\n",
       "Exterior2nd__5     -0.000038\n",
       "dtype: float64"
      ]
     },
     "execution_count": 23,
     "metadata": {},
     "output_type": "execute_result"
    }
   ],
   "source": [
    "sort_ridge_coefs(ridge, trainX)"
   ]
  },
  {
   "cell_type": "markdown",
   "metadata": {},
   "source": [
    "### Elastic Net Model"
   ]
  },
  {
   "cell_type": "markdown",
   "metadata": {},
   "source": [
    "#### *Grid Search for Optimal Alpha*"
   ]
  },
  {
   "cell_type": "code",
   "execution_count": 24,
   "metadata": {
    "scrolled": true
   },
   "outputs": [
    {
     "data": {
      "text/plain": [
       "GridSearchCV(cv=5, error_score='raise-deprecating',\n",
       "       estimator=ElasticNet(alpha=1.0, copy_X=True, fit_intercept=True, l1_ratio=0.5,\n",
       "      max_iter=2000, normalize=False, positive=False, precompute=False,\n",
       "      random_state=None, selection='cyclic', tol=0.0001, warm_start=False),\n",
       "       fit_params=None, iid='warn', n_jobs=None,\n",
       "       param_grid=[{'alpha': array([1.0000e-03, 2.0301e-01, ..., 1.9798e+01, 2.0000e+01]), 'l1_ratio': array([0.1, 0.2, 0.3, 0.4, 0.5, 0.6, 0.7, 0.8, 0.9, 1. ])}],\n",
       "       pre_dispatch='2*n_jobs', refit=True, return_train_score=True,\n",
       "       scoring='neg_mean_squared_error', verbose=0)"
      ]
     },
     "execution_count": 24,
     "metadata": {},
     "output_type": "execute_result"
    }
   ],
   "source": [
    "#define alpha range and train elastic net model\n",
    "alphaSize = 100\n",
    "rhoSize = 10\n",
    "e_alphaRange = np.linspace(10e-4, 20, alphaSize)\n",
    "l1_ratio = np.linspace(0.1, 1, rhoSize)\n",
    "\n",
    "e_grid_param=[{'alpha': e_alphaRange, 'l1_ratio': l1_ratio}]\n",
    "e_para_search = GridSearchCV(estimator=ElasticNet(max_iter=2000),\\\n",
    "                           param_grid=e_grid_param, scoring='neg_mean_squared_error', cv=5, return_train_score=True)\n",
    "e_para_search.fit(trainX, trainY)"
   ]
  },
  {
   "cell_type": "markdown",
   "metadata": {},
   "source": [
    "#### *Output eNet Params*"
   ]
  },
  {
   "cell_type": "code",
   "execution_count": 25,
   "metadata": {},
   "outputs": [
    {
     "name": "stdout",
     "output_type": "stream",
     "text": [
      "Best Test MSE: 0.008584510271319378\n",
      "Best Alpha: 0.001\n",
      "Best Rho: 0.8\n"
     ]
    }
   ],
   "source": [
    "e_best_alpha = e_para_search.best_params_['alpha']\n",
    "e_best_l1ratio = list(e_para_search.best_params_.values())[1]\n",
    "e_best_score = r_para_search.best_score_\n",
    "print('Best Test MSE: %s' %(abs(e_best_score)))\n",
    "print('Best Alpha: %s' %(e_best_alpha))\n",
    "print('Best Rho: %s' %(e_best_l1ratio))"
   ]
  },
  {
   "cell_type": "markdown",
   "metadata": {},
   "source": [
    "#### *eNet Results on Test Set*"
   ]
  },
  {
   "cell_type": "code",
   "execution_count": 26,
   "metadata": {},
   "outputs": [
    {
     "name": "stdout",
     "output_type": "stream",
     "text": [
      "Test MSE: 0.010389073638758045\n",
      "Test RMSE in $$: 13966.44737755994\n"
     ]
    }
   ],
   "source": [
    "elasticnet.set_params(alpha=e_best_alpha, l1_ratio = e_best_l1ratio, normalize = False)\n",
    "elasticnet.fit(trainX,trainY)\n",
    "e_MSE = np.mean((elasticnet.predict(testX)-testY)**2)\n",
    "e_RMSE_in_dollars = np.mean((np.exp(elasticnet.predict(testX))-np.exp(testY))**2)**0.5\n",
    "print('Test MSE: %s' %(e_MSE))\n",
    "print('Test RMSE in $$: %s' %(e_RMSE_in_dollars))"
   ]
  },
  {
   "cell_type": "code",
   "execution_count": 27,
   "metadata": {},
   "outputs": [
    {
     "data": {
      "text/plain": [
       "RoofMatl__4         0.177527\n",
       "Condition2__1      -0.121019\n",
       "RoofMatl__2        -0.115157\n",
       "Neighborhood__16    0.083618\n",
       "RoofMatl__1         0.065597\n",
       "Neighborhood__6    -0.050451\n",
       "GrLivArea           0.049829\n",
       "Heating__2         -0.048766\n",
       "YearBuilt           0.048744\n",
       "OverallQual         0.043941\n",
       "Condition2__3       0.043555\n",
       "OverallCond         0.032977\n",
       "SaleCondition__1   -0.031643\n",
       "Neighborhood__7     0.027084\n",
       "MSSubClass__4      -0.024478\n",
       "Neighborhood__17    0.020334\n",
       "Fence__1            0.019053\n",
       "Neighborhood__2    -0.018057\n",
       "TotalBsmtSF         0.017655\n",
       "GarageArea          0.014796\n",
       "GarageFinish__1    -0.014305\n",
       "Neighborhood__8     0.013910\n",
       "Condition2__4       0.013742\n",
       "1stFlrSF            0.013620\n",
       "BsmtFullBath        0.012946\n",
       "GarageCond          0.011689\n",
       "MSZoning__1         0.011625\n",
       "LotArea             0.011462\n",
       "HalfBath            0.009753\n",
       "LotFrontage         0.009026\n",
       "KitchenQual         0.008807\n",
       "Foundation__3       0.008432\n",
       "BsmtFinType1__2     0.008329\n",
       "SaleCondition__2    0.008105\n",
       "FireplaceQu         0.007968\n",
       "BsmtFinType1__5    -0.007801\n",
       "BsmtExposure        0.007343\n",
       "MSSubClass__2       0.006927\n",
       "BsmtFinType1__6    -0.006118\n",
       "Exterior2nd__7     -0.005668\n",
       "Exterior1st__7     -0.004769\n",
       "MSZoning__2         0.004571\n",
       "LotConfig__1       -0.004075\n",
       "Exterior1st__3      0.004072\n",
       "BedroomAbvGr       -0.003746\n",
       "GarageFinish__2     0.003739\n",
       "YearRemodAdd        0.003553\n",
       "BsmtHalfBath        0.003388\n",
       "YrSold             -0.002608\n",
       "MoSold             -0.002543\n",
       "BldgType__1         0.002227\n",
       "ExterQual           0.001988\n",
       "ExterCond           0.001905\n",
       "Exterior2nd__1     -0.001743\n",
       "BsmtQual            0.001235\n",
       "HeatingQC           0.001196\n",
       "FullBath            0.000969\n",
       "Exterior2nd__3      0.000527\n",
       "HouseStyle__1       0.000404\n",
       "TotRmsAbvGrd        0.000335\n",
       "BsmtCond            0.000223\n",
       "BsmtFinType1__3    -0.000000\n",
       "BsmtFinType1__4     0.000000\n",
       "Heating__1         -0.000000\n",
       "GarageType__3       0.000000\n",
       "Fireplaces          0.000000\n",
       "GarageType__1      -0.000000\n",
       "GarageType__2      -0.000000\n",
       "HouseStyle__2       0.000000\n",
       "2ndFlrSF            0.000000\n",
       "GarageFinish__3    -0.000000\n",
       "GarageYrBlt        -0.000000\n",
       "Fence__2            0.000000\n",
       "MSSubClass__1       0.000000\n",
       "MasVnrArea          0.000000\n",
       "MSSubClass__3       0.000000\n",
       "MSSubClass__5      -0.000000\n",
       "MSSubClass__6      -0.000000\n",
       "MSSubClass__7      -0.000000\n",
       "MSSubClass__8       0.000000\n",
       "BsmtFinType1__1     0.000000\n",
       "Foundation__2      -0.000000\n",
       "GarageCars          0.000000\n",
       "GarageQual          0.000000\n",
       "BldgType__2         0.000000\n",
       "MSSubClass__9      -0.000000\n",
       "HouseStyle__3      -0.000000\n",
       "HouseStyle__4      -0.000000\n",
       "Exterior1st__1      0.000000\n",
       "Exterior1st__2      0.000000\n",
       "Exterior1st__4     -0.000000\n",
       "Neighborhood__14   -0.000000\n",
       "Neighborhood__11    0.000000\n",
       "Neighborhood__9    -0.000000\n",
       "Exterior1st__5     -0.000000\n",
       "Exterior1st__6      0.000000\n",
       "Neighborhood__5    -0.000000\n",
       "Neighborhood__4    -0.000000\n",
       "Neighborhood__3    -0.000000\n",
       "Exterior2nd__2      0.000000\n",
       "Neighborhood__1     0.000000\n",
       "LotConfig__2       -0.000000\n",
       "Exterior2nd__4      0.000000\n",
       "Exterior2nd__5      0.000000\n",
       "Exterior2nd__6     -0.000000\n",
       "MasVnrType__1      -0.000000\n",
       "MasVnrType__2      -0.000000\n",
       "MSSubClass__10      0.000000\n",
       "dtype: float64"
      ]
     },
     "execution_count": 27,
     "metadata": {},
     "output_type": "execute_result"
    }
   ],
   "source": [
    "sort_ridge_coefs(elasticnet, trainX)"
   ]
  },
  {
   "cell_type": "markdown",
   "metadata": {},
   "source": [
    "### CV Bagging"
   ]
  },
  {
   "cell_type": "code",
   "execution_count": 30,
   "metadata": {},
   "outputs": [
    {
     "name": "stdout",
     "output_type": "stream",
     "text": [
      "CPU times: user 2.32 s, sys: 169 ms, total: 2.49 s\n",
      "Wall time: 58.6 s\n",
      "Best parameters: {'max_features': 0.6, 'max_samples': 0.8}\n",
      "Best MSE Score: 0.009\n",
      "MSE Score on training data set (using best parameters): 0.004691\n",
      "MSE Score on test data set (using best parameters): 0.012687\n",
      "RMSE in $$ on test data set (using best parameters): 13923.688071\n"
     ]
    }
   ],
   "source": [
    "# Use double underscore to indicate this parameter \"belongs\":\n",
    "# base_estimator__ <-- belongs to base_estimator (use __)\n",
    "# Other parameters without __ (double underscore) are parameters for the bagging classifier\n",
    "\n",
    "# TAKES TOO LONG TO RUN PARAM_GRID2\n",
    "# param_grid2 = {\n",
    "#     'base_estimator__min_samples_leaf' : range(2, 13),\\\n",
    "#     'base_estimator__min_samples_split': range(2, 21),\\\n",
    "#     'n_estimators' : range(100,600,100),\\\n",
    "#     'max_samples' : [0.3, 0.6, 0.9],\\\n",
    "#     'max_features': [0.25,0.5,0.75]\n",
    "# }\n",
    "param_grid = {\n",
    "    'max_samples' : np.linspace(0.1,0.9,9),\\\n",
    "    'max_features': np.linspace(0.1,0.9,9)\n",
    "}\n",
    "grid_search_bag = GridSearchCV(ensemble.BaggingRegressor(base_estimator=tree.DecisionTreeRegressor(criterion=\"mse\",splitter=\"best\",min_samples_leaf=2,min_samples_split=15),\\\n",
    "                                                         n_estimators=100,bootstrap=True,oob_score = True,n_jobs=-1,random_state=0),\\\n",
    "                               param_grid, cv=5, scoring='neg_mean_squared_error', n_jobs=-1,refit=True)\n",
    "%time grid_search_bag.fit(trainX, trainY)\n",
    "\n",
    "# Print results    \n",
    "print('Best parameters: {}'.format(grid_search_bag.best_params_))\n",
    "print('Best MSE Score: {0:.3f}'.format(-grid_search_bag.best_score_)) # NOTE: it is negated! (Sklearn convention)\n",
    "print('MSE Score on training data set (using best parameters): {0:.6f}'.format(-grid_search_bag.score(trainX, trainY)))\n",
    "print('MSE Score on test data set (using best parameters): {0:.6f}'.format(-grid_search_bag.score(testX, testY)))\n",
    "print('RMSE in $$ on test data set (using best parameters): {0:.1f}'.format(\\\n",
    "      np.mean((np.exp(grid_search_bag.predict(testX))-np.exp(testY))**2)**0.5))"
   ]
  },
  {
   "cell_type": "markdown",
   "metadata": {},
   "source": [
    "#### *Visualize Grid Search Results*"
   ]
  },
  {
   "cell_type": "code",
   "execution_count": null,
   "metadata": {},
   "outputs": [],
   "source": [
    "xplot=list(param_grid['max_samples'])\n",
    "yplot=list(param_grid['max_features'])\n",
    "zplot=-1*grid_search_bag.cv_results_['mean_test_score'].reshape(len(yplot),-1) # NOTE: it is negated! (Sklearn convention)\n",
    "plt.pcolor(xplot,yplot,zplot,cmap='RdBu')\n",
    "plt.colorbar();\n",
    "plt.xlabel('Maximum Number of Samples for Bootstrap (%)');\n",
    "plt.ylabel('Max Features to Consider for Each Split');"
   ]
  },
  {
   "cell_type": "markdown",
   "metadata": {},
   "source": [
    "#### *Visualize MSE*"
   ]
  },
  {
   "cell_type": "code",
   "execution_count": null,
   "metadata": {},
   "outputs": [],
   "source": [
    "number_estimators = range(10, 110,10)\n",
    "train_error = []\n",
    "test_error = []\n",
    "for i in number_estimators:\n",
    "    bagging.set_params(n_estimators=i,bootstrap=True,oob_score = False,n_jobs=-1,random_state=0,\\\n",
    "                       max_samples=0.6,max_features=0.5)\n",
    "    bagging.fit(trainX, trainY)\n",
    "    train_error.append(metrics.mean_squared_error(y_train, bagging.predict(x_train))) \n",
    "    test_error.append(metrics.mean_squared_error(y_test, bagging.predict(x_test))) \n",
    "import matplotlib.pyplot as plt\n",
    "plt.plot(number_estimators, train_error, c='red', label='training error')\n",
    "plt.plot(number_estimators, test_error, c='blue', label='test error')\n",
    "plt.ylabel('MSE')\n",
    "plt.xlabel('Number of Trees')\n",
    "plt.legend()\n",
    "plt.show()"
   ]
  },
  {
   "cell_type": "markdown",
   "metadata": {},
   "source": [
    "### Random Forests"
   ]
  },
  {
   "cell_type": "code",
   "execution_count": 31,
   "metadata": {},
   "outputs": [
    {
     "name": "stdout",
     "output_type": "stream",
     "text": [
      "CPU times: user 6.36 s, sys: 392 ms, total: 6.75 s\n",
      "Wall time: 1min 59s\n",
      "Best parameters: {'max_depth': 13, 'max_features': 19}\n",
      "Best MSE Score: 0.009\n",
      "MSE Score on training data set (using best parameters): 0.003\n",
      "MSE Score on test data set (using best parameters): 0.013\n",
      "RMSE in $$ on test data set (using best parameters): 13571.0\n"
     ]
    }
   ],
   "source": [
    "param_grid = {\n",
    "    'max_depth' : range(5,20),\\\n",
    "    'max_features': range(5,20)\n",
    "}\n",
    "randomForest = ensemble.RandomForestRegressor()\n",
    "grid_search_forest = GridSearchCV(ensemble.RandomForestRegressor(n_estimators=100,criterion=\"mse\",\\\n",
    "                                                                 min_samples_leaf=2,min_samples_split=2,\\\n",
    "                                                                 bootstrap=True,oob_score = True,n_jobs=-1),\\\n",
    "                                  param_grid, cv=5, scoring='neg_mean_squared_error', n_jobs=-1,refit=True)\n",
    "%time grid_search_forest.fit(trainX, trainY)\n",
    "\n",
    "# Print results    \n",
    "print('Best parameters: {}'.format(grid_search_forest.best_params_))\n",
    "print('Best MSE Score: {0:.3f}'.format(-grid_search_forest.best_score_)) # NOTE: it is negated! (Sklearn convention)\n",
    "print('MSE Score on training data set (using best parameters): {0:.3f}'.format(-grid_search_forest.score(trainX, trainY)))\n",
    "print('MSE Score on test data set (using best parameters): {0:.3f}'.format(-grid_search_forest.score(testX, testY)))\n",
    "print('RMSE in $$ on test data set (using best parameters): {0:.1f}'.format(\\\n",
    "      np.mean((np.exp(grid_search_forest.predict(testX))-np.exp(testY))**2)**0.5))"
   ]
  },
  {
   "cell_type": "markdown",
   "metadata": {},
   "source": [
    "#### *Visualize Grid Search Results*"
   ]
  },
  {
   "cell_type": "code",
   "execution_count": null,
   "metadata": {},
   "outputs": [],
   "source": [
    "xplot=list(param_grid['max_depth'])\n",
    "yplot=list(param_grid['max_features'])\n",
    "zplot=-1*grid_search_forest.cv_results_['mean_test_score'].reshape(len(yplot),-1) # NOTE: it is negated! (Sklearn convention)\n",
    "plt.pcolor(xplot,yplot,zplot,cmap='RdBu')\n",
    "plt.colorbar();\n",
    "plt.xlabel('Maximum Tree Depth');\n",
    "plt.ylabel('Max Features to Consider for Each Split');"
   ]
  },
  {
   "cell_type": "markdown",
   "metadata": {},
   "source": [
    "#### *Visualize MSE*"
   ]
  },
  {
   "cell_type": "code",
   "execution_count": null,
   "metadata": {},
   "outputs": [],
   "source": [
    "number_estimators = range(10,110,10)\n",
    "train_error = []\n",
    "test_error = []\n",
    "for i in number_estimators:\n",
    "    randomForest.set_params(n_estimators=i,criterion=\"mse\",bootstrap=True,oob_score = False,n_jobs=-1,random_state=0,\\\n",
    "                       max_depth=5,max_features=5)\n",
    "    randomForest.fit(trainX, trainY)\n",
    "    train_error.append(metrics.mean_squared_error(y_train, randomForest.predict(x_train))) \n",
    "    test_error.append(metrics.mean_squared_error(y_test, randomForest.predict(x_test))) \n",
    "import matplotlib.pyplot as plt\n",
    "plt.plot(number_estimators, train_error, c='red', label='training error')\n",
    "plt.plot(number_estimators, test_error, c='blue', label='test error')\n",
    "plt.ylabel('MSE')\n",
    "plt.xlabel('Number of Trees')\n",
    "plt.legend()\n",
    "plt.show()"
   ]
  },
  {
   "cell_type": "code",
   "execution_count": null,
   "metadata": {},
   "outputs": [],
   "source": [
    "#visualize best predictors\n",
    "feature_importance = list(zip(x_train.columns, randomForest.feature_importances_))\n",
    "dtype = [('feature', 'S10'), ('importance', 'float')]\n",
    "feature_importance = np.array(feature_importance, dtype=dtype)\n",
    "feature_sort = np.sort(feature_importance, order='importance')[::-1]\n",
    "name, score = zip(*list(feature_sort))\n",
    "pd.DataFrame({'name':name,'score':score})[:20].plot.bar(x='name', y='score')"
   ]
  },
  {
   "cell_type": "markdown",
   "metadata": {},
   "source": [
    "### Store Outputs"
   ]
  },
  {
   "cell_type": "code",
   "execution_count": 36,
   "metadata": {},
   "outputs": [],
   "source": [
    "#index = ['Lasso', 'Ridge', 'eNet', 'Bagged_Tree', 'Rand_Forests']\n",
    "#scores = [l_MSE, r_MSE, e_MSE, -grid_search_bag.score(testX, testY), -grid_search_forest.score(testX, testY)]\n",
    "#model_results = pd.DataFrame(data=scores,index=index, columns = ['purged_dummified_grouped_baseline_df'])"
   ]
  },
  {
   "cell_type": "code",
   "execution_count": null,
   "metadata": {},
   "outputs": [],
   "source": [
    "# fill in name of dataframe\n",
    "model_results['?'] = [l_MSE, r_MSE, e_MSE, -grid_search_bag.score(testX, testY), -grid_search_forest.score(testX, testY)]"
   ]
  },
  {
   "cell_type": "code",
   "execution_count": 37,
   "metadata": {},
   "outputs": [
    {
     "data": {
      "text/html": [
       "<div>\n",
       "<style scoped>\n",
       "    .dataframe tbody tr th:only-of-type {\n",
       "        vertical-align: middle;\n",
       "    }\n",
       "\n",
       "    .dataframe tbody tr th {\n",
       "        vertical-align: top;\n",
       "    }\n",
       "\n",
       "    .dataframe thead th {\n",
       "        text-align: right;\n",
       "    }\n",
       "</style>\n",
       "<table border=\"1\" class=\"dataframe\">\n",
       "  <thead>\n",
       "    <tr style=\"text-align: right;\">\n",
       "      <th></th>\n",
       "      <th>purged_dummified_grouped_baseline_df</th>\n",
       "    </tr>\n",
       "  </thead>\n",
       "  <tbody>\n",
       "    <tr>\n",
       "      <th>Lasso</th>\n",
       "      <td>0.010482</td>\n",
       "    </tr>\n",
       "    <tr>\n",
       "      <th>Ridge</th>\n",
       "      <td>0.010610</td>\n",
       "    </tr>\n",
       "    <tr>\n",
       "      <th>eNet</th>\n",
       "      <td>0.010389</td>\n",
       "    </tr>\n",
       "    <tr>\n",
       "      <th>Bagged_Tree</th>\n",
       "      <td>0.012687</td>\n",
       "    </tr>\n",
       "    <tr>\n",
       "      <th>Rand_Forests</th>\n",
       "      <td>0.012598</td>\n",
       "    </tr>\n",
       "  </tbody>\n",
       "</table>\n",
       "</div>"
      ],
      "text/plain": [
       "              purged_dummified_grouped_baseline_df\n",
       "Lasso                                     0.010482\n",
       "Ridge                                     0.010610\n",
       "eNet                                      0.010389\n",
       "Bagged_Tree                               0.012687\n",
       "Rand_Forests                              0.012598"
      ]
     },
     "execution_count": 37,
     "metadata": {},
     "output_type": "execute_result"
    }
   ],
   "source": [
    "model_results"
   ]
  },
  {
   "cell_type": "code",
   "execution_count": null,
   "metadata": {},
   "outputs": [],
   "source": []
  }
 ],
 "metadata": {
  "kernelspec": {
   "display_name": "Python 3",
   "language": "python",
   "name": "python3"
  },
  "language_info": {
   "codemirror_mode": {
    "name": "ipython",
    "version": 3
   },
   "file_extension": ".py",
   "mimetype": "text/x-python",
   "name": "python",
   "nbconvert_exporter": "python",
   "pygments_lexer": "ipython3",
   "version": "3.7.3"
  }
 },
 "nbformat": 4,
 "nbformat_minor": 2
}
