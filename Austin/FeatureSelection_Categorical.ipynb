{
 "cells": [
  {
   "cell_type": "code",
   "execution_count": null,
   "metadata": {},
   "outputs": [],
   "source": [
    "# Making training dataframe with only categorical variables \n",
    "x_train, x_test, y_train, y_test = train_test_split(x, y, test_size=0.3, random_state=0)\n",
    "cat_x_train=x_train[set(x_train.columns)-set(cont_var_for_tuning)]\n",
    "# Select Features With Best ANOVA F-Values\n",
    "fvalue_selector = fs.SelectKBest(fs.f_classif, k=50)\n",
    "X_kbest = fvalue_selector.fit(cat_x_train, y_train)\n",
    "# # Show results\n",
    "# print('Original number of features:', cat_x_train.shape[1])\n",
    "# print('Reduced number of features:', X_kbest.shape[1])"
   ]
  }
 ],
 "metadata": {
  "kernelspec": {
   "display_name": "Python 3",
   "language": "python",
   "name": "python3"
  },
  "language_info": {
   "codemirror_mode": {
    "name": "ipython",
    "version": 3
   },
   "file_extension": ".py",
   "mimetype": "text/x-python",
   "name": "python",
   "nbconvert_exporter": "python",
   "pygments_lexer": "ipython3",
   "version": "3.7.4"
  }
 },
 "nbformat": 4,
 "nbformat_minor": 2
}
