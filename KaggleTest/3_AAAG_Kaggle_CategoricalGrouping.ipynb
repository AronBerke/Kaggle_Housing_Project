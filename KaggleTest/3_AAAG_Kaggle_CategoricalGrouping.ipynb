{
 "cells": [
  {
   "cell_type": "markdown",
   "metadata": {},
   "source": [
    "# CategoricalGrouping Notebook - AAAG"
   ]
  },
  {
   "cell_type": "code",
   "execution_count": 18,
   "metadata": {},
   "outputs": [
    {
     "data": {
      "text/plain": [
       "(1459, 70)"
      ]
     },
     "execution_count": 18,
     "metadata": {},
     "output_type": "execute_result"
    }
   ],
   "source": [
    "# Basics Importation \n",
    "import numpy as np\n",
    "import pandas as pd\n",
    "import matplotlib.pyplot as plt\n",
    "import seaborn as sns\n",
    "%matplotlib inline\n",
    "plt.style.use('ggplot')\n",
    "\n",
    "# For Detailed Stats Output\n",
    "import statsmodels.api as sm\n",
    "# The linear regression models \n",
    "from sklearn.linear_model import LinearRegression, Ridge, Lasso, ElasticNet, LassoCV, ElasticNetCV\n",
    "# Instantiating the linear regression models\n",
    "ols = LinearRegression()\n",
    "ridge = Ridge()\n",
    "lasso  = Lasso()\n",
    "lassocv = LassoCV()\n",
    "elasticnet = ElasticNet()\n",
    "elasticnetcv = ElasticNetCV()\n",
    "# The tree model\n",
    "from sklearn import tree\n",
    "# Instantiating the tree model (regression type)\n",
    "regressor = tree.DecisionTreeRegressor()\n",
    "# The ensemble model for random forest and bagging\n",
    "from sklearn import ensemble\n",
    "# Instantiating the ensemble models\n",
    "randomForest = ensemble.RandomForestRegressor()\n",
    "bagging = ensemble.BaggingRegressor()\n",
    "# Instantiating the boost models\n",
    "gbm = ensemble.GradientBoostingRegressor()\n",
    "abr = ensemble.AdaBoostRegressor()\n",
    "# xg boost\n",
    "import xgboost as xgb\n",
    "# lg boost\n",
    "import lightgbm as lgb\n",
    "# K mean clustering\n",
    "from sklearn.cluster import KMeans\n",
    "kmeans = KMeans()\n",
    "# The model selection for cross validation, k fold splits, train_test_split, grid search etc. \n",
    "import sklearn.model_selection as ms\n",
    "from sklearn.model_selection import train_test_split\n",
    "from sklearn.model_selection import GridSearchCV\n",
    "# Some automatic feature selection functions (recursive finding, best feature selection etc.)\n",
    "import sklearn.feature_selection as fs\n",
    "# Importing the different error evaluation/metrics\n",
    "from sklearn import metrics\n",
    "from sklearn.metrics import silhouette_score\n",
    "# Importing PCA\n",
    "from sklearn.decomposition import PCA\n",
    "# Making it so that we can see all columns of the dataframe\n",
    "pd.set_option('display.max_columns', None)\n",
    "\n",
    "# Import data\n",
    "standardized_no_outlier_undummified_df_total=pd.read_csv('standardized_no_outlier_undummified_df_train.csv',index_col='Id')\n",
    "standardized_with_outlier_undummified_df_test=pd.read_csv('standardized_with_outlier_undummified_df_test.csv',index_col='Id')\n",
    "# Specify df to work with:\n",
    "df = standardized_no_outlier_undummified_df_total\n",
    "df_test = standardized_with_outlier_undummified_df_test\n",
    "df_test.shape\n",
    "# df_test must have : undummfieid: (1459, 70), dummified: (1459,902)"
   ]
  },
  {
   "cell_type": "code",
   "execution_count": 2,
   "metadata": {},
   "outputs": [],
   "source": [
    "nominal_var_processed=['MSZoning','Street','Alley','LotShape','LandContour','LotConfig','LandSlope',\\\n",
    "             'Neighborhood','Condition1','Condition2','BldgType','HouseStyle','RoofStyle','RoofMatl',\\\n",
    "             'Exterior1st','Exterior2nd','MasVnrType','Foundation',\\\n",
    "             'BsmtFinType1','Heating','CentralAir',\\\n",
    "             'Electrical','Functional','GarageType','GarageFinish',\\\n",
    "             'PavedDrive','Fence','MiscFeature','SaleType','SaleCondition','MSSubClass',\\\n",
    "             'WoodDeckSF','OpenPorchSF','EnclosedPorch','3SsnPorch','ScreenPorch','PoolArea','MoSold']\n",
    "ordinal_var_processed=['OverallQual','OverallCond','BsmtFullBath','BsmtHalfBath','FullBath',\\\n",
    "             'HalfBath','BedroomAbvGr','TotRmsAbvGrd','Fireplaces','GarageCars',\\\n",
    "             'YrSold','HeatingQC','KitchenQual','ExterQual','ExterCond','BsmtQual',\\\n",
    "             'BsmtCond','BsmtExposure','FireplaceQu','GarageQual','GarageCond']\n",
    "cont_var_processed=['LotFrontage','LotArea','YearBuilt','YearRemodAdd','MasVnrArea','TotalBsmtSF',\\\n",
    "          '1stFlrSF','2ndFlrSF','GrLivArea','GarageYrBlt','GarageArea']\n",
    "cont_var_for_tuning=ordinal_var_processed+cont_var_processed"
   ]
  },
  {
   "cell_type": "code",
   "execution_count": 3,
   "metadata": {},
   "outputs": [],
   "source": [
    "x=df.drop('SalePrice',axis='columns')\n",
    "y=df.SalePrice\n",
    "x_test=df_test.drop('GrLivArea',axis='columns')\n",
    "y_test=df_test.GrLivArea"
   ]
  },
  {
   "cell_type": "code",
   "execution_count": 4,
   "metadata": {},
   "outputs": [],
   "source": [
    "def dummify_column(dataframe,column_name):\n",
    "    '''\n",
    "    ### NOTE!!! ### vector operation not working yet!!!! ###\n",
    "    - dataframe takes the entire dataframe you are working on\n",
    "    - column_name takes a list of strings, where the strings are the column names\n",
    "    '''\n",
    "    for feature in column_name:\n",
    "        dummified_feature = pd.get_dummies(dataframe.loc[:,feature], prefix=feature, prefix_sep='__',drop_first=True)\n",
    "        dummified_df = pd.concat([dataframe.drop(feature,axis=1),dummified_feature],axis=1,sort='False')\n",
    "    return dummified_df"
   ]
  },
  {
   "cell_type": "code",
   "execution_count": 5,
   "metadata": {
    "scrolled": false
   },
   "outputs": [
    {
     "name": "stdout",
     "output_type": "stream",
     "text": [
      "MSZoning\n",
      "Street\n",
      "Alley\n",
      "LotShape\n",
      "LandContour\n",
      "LotConfig\n",
      "LandSlope\n",
      "Neighborhood\n",
      "Condition1\n",
      "Condition2\n",
      "BldgType\n",
      "HouseStyle\n",
      "RoofStyle\n",
      "RoofMatl\n",
      "Exterior1st\n",
      "Exterior2nd\n",
      "MasVnrType\n",
      "Foundation\n",
      "BsmtFinType1\n",
      "Heating\n",
      "CentralAir\n",
      "Electrical\n",
      "Functional\n",
      "GarageType\n",
      "GarageFinish\n",
      "PavedDrive\n",
      "Fence\n",
      "MiscFeature\n",
      "SaleType\n",
      "SaleCondition\n",
      "MSSubClass\n",
      "WoodDeckSF\n",
      "OpenPorchSF\n",
      "EnclosedPorch\n",
      "3SsnPorch\n",
      "ScreenPorch\n",
      "PoolArea\n",
      "MoSold\n"
     ]
    }
   ],
   "source": [
    "# TAKES A LONG TIME TO RUN!!!!!!!!!!!!!!!!!!!!!!!!!!!!!!!!!!!!!!!!!!!\n",
    "# TAKES A LONG TIME TO RUN!!!!!!!!!!!!!!!!!!!!!!!!!!!!!!!!!!!!!!!!!!!\n",
    "\n",
    "# K mean clustering performed on categorical variables\n",
    "# perform for train (non-test) set\n",
    "nominal_var_cluster_num=[]\n",
    "nominal_var_cluster_num_test=[]\n",
    "for cat_var in nominal_var_processed:\n",
    "    # dummifying the nominal categorical variable\n",
    "    dummified_column=pd.get_dummies(x.loc[:,cat_var],prefix=cat_var, prefix_sep='__')\n",
    "    df_for_cluster=pd.concat([y,dummified_column],axis=1,sort='False')\n",
    "    print(cat_var)\n",
    "    # Finding the optimal number of clusters and storing into nominal_var_cluster_num\n",
    "    kmax = df_for_cluster.shape[1]\n",
    "    KNumberChoice=range(2, kmax)\n",
    "    # dissimilarity would not be defined for a single cluster, thus, minimum number of clusters should be 2\n",
    "    # Doing mulitple trials for each category\n",
    "    cluster_count=[]\n",
    "    for trial_num in range(0,5):\n",
    "#         print(trial_num)\n",
    "        sil = []\n",
    "        for k in range(2, kmax):\n",
    "            kmeans = KMeans(n_clusters = k,random_state=trial_num,init='k-means++').fit(df_for_cluster)\n",
    "            labels = kmeans.labels_\n",
    "            sil.append(silhouette_score(df_for_cluster, labels, metric = 'euclidean'))\n",
    "        if np.argmax(sil)<0.2: # defining threshold for 1 cluster\n",
    "            cluster_count.append(1)\n",
    "        else:\n",
    "            cluster_count.append(KNumberChoice[np.argmax(sil)])\n",
    "    nominal_var_cluster_num.append(max(set(cluster_count), key=cluster_count.count))\n",
    "\n",
    "    # perform for the test set #######################################       \n",
    "    dummified_column_test=pd.get_dummies(x_test.loc[:,cat_var],prefix=cat_var, prefix_sep='__')\n",
    "    df_for_cluster_test=pd.concat([y_test,dummified_column_test],axis=1,sort='False')\n",
    "    kmax_test = df_for_cluster_test.shape[1]\n",
    "    KNumberChoice_test=range(2, kmax_test)\n",
    "    cluster_count_test=[]\n",
    "    for trial_num in range(0,5):\n",
    "#         print(trial_num)\n",
    "        sil = []\n",
    "        for k in range(2, kmax_test):\n",
    "            kmeans_test = KMeans(n_clusters = k,random_state=trial_num,init='k-means++').fit(df_for_cluster_test)\n",
    "            labels_test = kmeans_test.labels_\n",
    "            sil.append(silhouette_score(df_for_cluster_test, labels_test, metric = 'euclidean'))\n",
    "        if np.argmax(sil)<0.2: # defining threshold for 1 cluster\n",
    "            cluster_count_test.append(1)\n",
    "        else:\n",
    "            cluster_count_test.append(KNumberChoice_test[np.argmax(sil)])\n",
    "    nominal_var_cluster_num_test.append(max(set(cluster_count_test), key=cluster_count_test.count))\n"
   ]
  },
  {
   "cell_type": "code",
   "execution_count": 6,
   "metadata": {
    "scrolled": true
   },
   "outputs": [],
   "source": [
    "# With the known cluster number for each categorical variable, perform the clustering\n",
    "# perform for train (non-test) set\n",
    "for ind,cat_var in enumerate(nominal_var_processed):\n",
    "    dummified_column=pd.get_dummies(x.loc[:,cat_var],prefix=cat_var, prefix_sep='__')\n",
    "    df_for_cluster=pd.concat([y,dummified_column],axis=1,sort='False')\n",
    "    kmeans=KMeans(n_clusters=nominal_var_cluster_num[ind]).fit(df_for_cluster)\n",
    "    x.loc[:,cat_var]=kmeans.labels_\n",
    "    \n",
    "    # perform for the test set###################\n",
    "    dummified_column_test=pd.get_dummies(x_test.loc[:,cat_var],prefix=cat_var, prefix_sep='__')\n",
    "    df_for_cluster_test=pd.concat([y_test,dummified_column_test],axis=1,sort='False')\n",
    "    kmeans_test=KMeans(n_clusters=nominal_var_cluster_num_test[ind]).fit(df_for_cluster_test)\n",
    "    x_test.loc[:,cat_var]=kmeans_test.labels_\n",
    "    \n",
    "clustered_df=pd.concat([y,x],axis=1,sort='False')    \n",
    "clustered_df_test=pd.concat([y_test,x_test],axis=1,sort='False')    \n"
   ]
  },
  {
   "cell_type": "code",
   "execution_count": 7,
   "metadata": {},
   "outputs": [],
   "source": [
    "# Removing the columns with pure 0's\n",
    "undummified_clustered_df=clustered_df.loc[:,(clustered_df != 0).any(axis=0)]\n",
    "\n",
    "# Removing from the test set columns there were removed from the training set!\n",
    "# undummified_clustered_df_test=clustered_df_test.loc[:,(clustered_df_test != 0).any(axis=0)]\n",
    "dropped_col=set(clustered_df.columns)-set(clustered_df.columns[(clustered_df != 0).any(axis=0)])\n",
    "cat_cols_to_keep = set(nominal_var_processed) - set(dropped_col)"
   ]
  },
  {
   "cell_type": "code",
   "execution_count": 8,
   "metadata": {},
   "outputs": [
    {
     "name": "stdout",
     "output_type": "stream",
     "text": [
      "0\n",
      "(1215, 181)\n",
      "0\n",
      "(1459, 196)\n"
     ]
    }
   ],
   "source": [
    "# dummifying the clustered_df\n",
    "undummified_clustered_df_copy=undummified_clustered_df.copy()\n",
    "for feature in cat_cols_to_keep:\n",
    "    undummified_clustered_df_copy=dummify_column(undummified_clustered_df_copy,[feature])\n",
    "dummified_clustered_df=undummified_clustered_df_copy\n",
    "print(dummified_clustered_df.isnull().sum().sum())\n",
    "print(dummified_clustered_df.shape)\n",
    "# dummifying the clustered_df_test\n",
    "undummified_clustered_df_test_copy=clustered_df_test.copy()\n",
    "for feature in cat_cols_to_keep:\n",
    "    undummified_clustered_df_test_copy=dummify_column(undummified_clustered_df_test_copy,[feature])\n",
    "dummified_clustered_df_test=undummified_clustered_df_test_copy\n",
    "print(dummified_clustered_df_test.isnull().sum().sum())\n",
    "print(dummified_clustered_df_test.shape)"
   ]
  },
  {
   "cell_type": "code",
   "execution_count": 9,
   "metadata": {},
   "outputs": [
    {
     "data": {
      "text/plain": [
       "Index(['SalePrice', 'RoofStyle__1', 'RoofStyle__2', 'RoofStyle__3',\n",
       "       'RoofStyle__4', 'GarageFinish__1', 'GarageFinish__2', 'GarageFinish__3',\n",
       "       'SaleType__1', 'SaleType__2',\n",
       "       ...\n",
       "       'MSSubClass__5', 'MSSubClass__6', 'MSSubClass__7', 'MSSubClass__8',\n",
       "       'MSSubClass__9', 'MSSubClass__10', 'MSSubClass__11', 'MSSubClass__12',\n",
       "       'MSSubClass__13', 'MSSubClass__14'],\n",
       "      dtype='object', length=149)"
      ]
     },
     "execution_count": 9,
     "metadata": {},
     "output_type": "execute_result"
    }
   ],
   "source": [
    "dummified_clustered_df.columns[~dummified_clustered_df.columns.isin(cont_var_for_tuning)]"
   ]
  },
  {
   "cell_type": "code",
   "execution_count": 10,
   "metadata": {},
   "outputs": [
    {
     "name": "stdout",
     "output_type": "stream",
     "text": [
      "yes\n",
      "yes\n",
      "yes\n",
      "yes\n"
     ]
    }
   ],
   "source": [
    "####################### ONLY FOR NON-TEST !!!!!!!!!!!!!!!!!!!!!!!!!!!!!!!!!!!!!!!!\n",
    "####################### ONLY FOR NON-TEST !!!!!!!!!!!!!!!!!!!!!!!!!!!!!!!!!!!!!!!!\n",
    "# Removing sub-categories with low counts and their associated observations (if less than 2% of total observation)\n",
    "boolmatrix=[]\n",
    "non_cont_columns=dummified_clustered_df.columns[~dummified_clustered_df.columns.isin(cont_var_for_tuning)]\n",
    "for cat_feature in non_cont_columns:\n",
    "    if dummified_clustered_df.loc[:,cat_feature].sum()<0.020*dummified_clustered_df.shape[0]:\n",
    "        print('yes')\n",
    "        boolvec=(dummified_clustered_df.loc[:,cat_feature]==1)\n",
    "        boolmatrix.append(list(boolvec))\n",
    "   "
   ]
  },
  {
   "cell_type": "code",
   "execution_count": 11,
   "metadata": {},
   "outputs": [
    {
     "name": "stdout",
     "output_type": "stream",
     "text": [
      "(1138, 177)\n"
     ]
    }
   ],
   "source": [
    "# creating boolean vector to takeout observations that have categorical low count observations\n",
    "if boolmatrix!=[]:\n",
    "    reduction_bool_vec=np.any(np.array(boolmatrix).transpose(),axis=1)\n",
    "    temp_df=dummified_clustered_df[~reduction_bool_vec]\n",
    "    purged_dummified_clustered_df=temp_df.loc[:,(temp_df != 0).any(axis=0)]\n",
    "else:\n",
    "    purged_dummified_clustered_df=dummified_clustered_df\n",
    "print(purged_dummified_clustered_df.shape)"
   ]
  },
  {
   "cell_type": "code",
   "execution_count": 12,
   "metadata": {},
   "outputs": [],
   "source": [
    "purged_dummified_clustered_df.to_csv('purged_dummified_clustered_df.csv')\n",
    "dummified_clustered_df_test.to_csv('dummified_clustered_df_test.csv')"
   ]
  },
  {
   "cell_type": "code",
   "execution_count": 13,
   "metadata": {},
   "outputs": [],
   "source": [
    "############# Reducing Continuous/Ordinal Only ################\n",
    "cont_df=purged_dummified_clustered_df.loc[:,cont_var_for_tuning]\n",
    "pca = PCA(n_components = 0.90)\n",
    "pca.fit(cont_df)\n",
    "reduced_cont_df = pd.DataFrame(pca.transform(cont_df))\n",
    "# Performing for the test set\n",
    "cont_df_test=dummified_clustered_df_test.loc[:,cont_var_for_tuning]\n",
    "pca_test = PCA(n_components = 0.90)\n",
    "pca_test.fit(cont_df_test)\n",
    "reduced_cont_df_test = pd.DataFrame(pca_test.transform(cont_df_test))"
   ]
  },
  {
   "cell_type": "code",
   "execution_count": 14,
   "metadata": {},
   "outputs": [],
   "source": [
    "categorical_purged_dummified_clustered_df=purged_dummified_clustered_df.drop(cont_var_for_tuning,axis=1)\n",
    "categorical_dummified_clustered_df_test=dummified_clustered_df_test.drop(cont_var_for_tuning,axis=1)\n",
    "\n",
    "PCA_purged_dummified_clustered_df=pd.concat([categorical_purged_dummified_clustered_df.reset_index(),reduced_cont_df],axis=1)\n",
    "PCA_dummified_clustered_df_test=pd.concat([categorical_dummified_clustered_df_test.reset_index(),reduced_cont_df_test],axis=1)"
   ]
  },
  {
   "cell_type": "code",
   "execution_count": 15,
   "metadata": {},
   "outputs": [],
   "source": [
    "PCA_purged_dummified_clustered_df.set_index('Id',inplace=True)\n",
    "PCA_dummified_clustered_df_test.set_index('Id',inplace=True)\n",
    "PCA_purged_dummified_clustered_df.to_csv('PCA_purged_dummified_clustered_df.csv')\n",
    "PCA_dummified_clustered_df_test.to_csv('PCA_dummified_clustered_df_test.csv')"
   ]
  },
  {
   "cell_type": "markdown",
   "metadata": {},
   "source": [
    "# My Attempt to improve on k mean clustering \n",
    "# A Working progress"
   ]
  },
  {
   "cell_type": "code",
   "execution_count": 16,
   "metadata": {
    "scrolled": false
   },
   "outputs": [],
   "source": [
    "# from sklearn.cluster import KMeans\n",
    "# from sklearn import metrics\n",
    "# from scipy.spatial.distance import cdist\n",
    "# import numpy as np\n",
    "# import matplotlib.pyplot as plt\n",
    "\n",
    "# # k means determine k\n",
    "# distortions = []\n",
    "# kmax = df_for_cluster.shape[1]\n",
    "# K = range(1,kmax)\n",
    "# for k in K:\n",
    "#     kmeanModel = KMeans(n_clusters=k).fit(df_for_cluster)\n",
    "#     kmeanModel.fit(df_for_cluster)\n",
    "#     distortions.append(sum(np.min(cdist(df_for_cluster, kmeanModel.cluster_centers_, 'euclidean')+0*(k), axis=1)) / df_for_cluster.shape[0])\n",
    "\n",
    "# # Plot the elbow\n",
    "# plt.plot(K, distortions, 'bx-')\n",
    "# plt.xlabel('k')\n",
    "# plt.ylabel('Distortion')\n",
    "# plt.title('The Elbow Method showing the optimal k')\n",
    "# plt.show()"
   ]
  },
  {
   "cell_type": "code",
   "execution_count": 17,
   "metadata": {},
   "outputs": [],
   "source": [
    "# from sklearn.cluster import KMeans\n",
    "# from sklearn import metrics\n",
    "# from scipy.spatial.distance import cdist\n",
    "# import numpy as np\n",
    "# import matplotlib.pyplot as plt\n",
    "\n",
    "# # k means determine k\n",
    "# K = range(1,df_for_cluster.shape[1])\n",
    "# penalty_term=np.linspace(0.005,0.01,101)\n",
    "# distortion_matrix = np.zeros([len(K),len(penalty_term)])\n",
    "# for i,k in enumerate(K):\n",
    "#     for j,pen_weight in enumerate(penalty_term):\n",
    "#         #print(i,j)\n",
    "#         kmeanModel = KMeans(n_clusters=k).fit(df_for_cluster)\n",
    "#         kmeanModel.fit(df_for_cluster)\n",
    "#         distortion_matrix[i,j]=sum(np.min(cdist(df_for_cluster, kmeanModel.cluster_centers_, 'euclidean')+pen_weight*(k), axis=1)) / df_for_cluster.shape[0]\n",
    "# # The minimum index\n",
    "# np.unravel_index(np.argmin(distortion_matrix, axis=None), distortion_matrix.shape)\n",
    "# # Plot the elbow\n",
    "# plt.pcolor(distortion_matrix)\n",
    "# plt.colorbar();\n",
    "# plt.xlabel('Penalization');\n",
    "# plt.ylabel('k clusters');"
   ]
  },
  {
   "cell_type": "markdown",
   "metadata": {},
   "source": []
  }
 ],
 "metadata": {
  "kernelspec": {
   "display_name": "Python 3",
   "language": "python",
   "name": "python3"
  },
  "language_info": {
   "codemirror_mode": {
    "name": "ipython",
    "version": 3
   },
   "file_extension": ".py",
   "mimetype": "text/x-python",
   "name": "python",
   "nbconvert_exporter": "python",
   "pygments_lexer": "ipython3",
   "version": "3.7.4"
  }
 },
 "nbformat": 4,
 "nbformat_minor": 2
}
