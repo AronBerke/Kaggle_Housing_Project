{
 "cells": [
  {
   "cell_type": "code",
   "execution_count": 1,
   "metadata": {},
   "outputs": [],
   "source": [
    "# Basics Importation \n",
    "import numpy as np\n",
    "import pandas as pd\n",
    "import matplotlib.pyplot as plt\n",
    "import seaborn as sns\n",
    "%matplotlib inline\n",
    "plt.style.use('ggplot')\n",
    "\n",
    "# For Detailed Stats Output\n",
    "import statsmodels.api as sm\n",
    "# The linear regression models \n",
    "from sklearn.linear_model import LinearRegression, Ridge, Lasso, ElasticNet, LassoCV, ElasticNetCV\n",
    "# Instantiating the linear regression models\n",
    "ols = LinearRegression()\n",
    "ridge = Ridge()\n",
    "lasso  = Lasso()\n",
    "lassocv = LassoCV()\n",
    "elasticnet = ElasticNet()\n",
    "elasticnetcv = ElasticNetCV()\n",
    "# The tree model\n",
    "from sklearn import tree\n",
    "# Instantiating the tree model (regression type)\n",
    "regressor = tree.DecisionTreeRegressor()\n",
    "# The ensemble model for random forest and bagging\n",
    "from sklearn import ensemble\n",
    "# Instantiating the ensemble models\n",
    "randomForest = ensemble.RandomForestRegressor()\n",
    "bagging = ensemble.BaggingRegressor()\n",
    "# Instantiating the boost models\n",
    "gbm = ensemble.GradientBoostingRegressor()\n",
    "abr = ensemble.AdaBoostRegressor()\n",
    "# xg boost\n",
    "import xgboost as xgb\n",
    "# lg boost\n",
    "import lightgbm as lgb\n",
    "# K mean clustering\n",
    "from sklearn.cluster import KMeans\n",
    "kmeans = KMeans()\n",
    "# The model selection for cross validation, k fold splits, train_test_split, grid search etc. \n",
    "import sklearn.model_selection as ms\n",
    "from sklearn.model_selection import train_test_split\n",
    "from sklearn.model_selection import GridSearchCV\n",
    "# Some automatic feature selection functions (recursive finding, best feature selection etc.)\n",
    "import sklearn.feature_selection as fs\n",
    "# Importing the different error evaluation/metrics\n",
    "from sklearn import metrics\n",
    "from sklearn.metrics import silhouette_score\n",
    "# Importing PCA\n",
    "from sklearn.decomposition import PCA\n",
    "# Making it so that we can see all columns of the dataframe\n",
    "pd.set_option('display.max_columns', None)\n",
    "\n",
    "# Import data\n",
    "df=pd.read_csv('purged_dummified_clustered_df.csv', index_col='Id')\n",
    "df_test=pd.read_csv('dummified_clustered_df_test.csv', index_col='Id')\n",
    "x=df[~df.SalePrice.isnull()].drop(['SalePrice'],axis=1)\n",
    "y=df[~df.SalePrice.isnull()].SalePrice\n",
    "x_test=df_test\n",
    "# df_test must have (1459) rows"
   ]
  },
  {
   "cell_type": "markdown",
   "metadata": {},
   "source": [
    "### Functions"
   ]
  },
  {
   "cell_type": "code",
   "execution_count": 2,
   "metadata": {},
   "outputs": [],
   "source": [
    "def important_coefs_lasso(model, dataframe):\n",
    "    '''\n",
    "    - A function that returns non-zero coefficients in order from a lasso model output\n",
    "    ---------------\n",
    "    - dataframe: dataframe of model inputs\n",
    "    - model: model object\n",
    "    '''\n",
    "    lassoCoef = pd.Series(model.coef_, index=dataframe.columns)\n",
    "    lassoCoef=lassoCoef[np.abs(lassoCoef)>0]\n",
    "    return lassoCoef.sort_values(ascending=False)"
   ]
  },
  {
   "cell_type": "code",
   "execution_count": 3,
   "metadata": {},
   "outputs": [],
   "source": [
    "def sort_ridge_coefs(model, dataframe):\n",
    "    ridge_coef = pd.Series(model.coef_, index=dataframe.columns)\n",
    "    ridge_coef.sort_values(ascending=False)\n",
    "    order = abs(ridge_coef).sort_values(ascending=False)\n",
    "    return ridge_coef[order.index]"
   ]
  },
  {
   "cell_type": "markdown",
   "metadata": {},
   "source": [
    "### Create Train/Test Split"
   ]
  },
  {
   "cell_type": "code",
   "execution_count": 4,
   "metadata": {},
   "outputs": [],
   "source": [
    "trainX, testX, trainY, testY = train_test_split(x, y, test_size=0.3, random_state=0)"
   ]
  },
  {
   "cell_type": "markdown",
   "metadata": {},
   "source": [
    "### Lasso Model"
   ]
  },
  {
   "cell_type": "markdown",
   "metadata": {},
   "source": [
    "#### *Grid Search for Optimal Alpha*"
   ]
  },
  {
   "cell_type": "code",
   "execution_count": 5,
   "metadata": {
    "scrolled": true
   },
   "outputs": [
    {
     "data": {
      "text/plain": [
       "GridSearchCV(cv=5, error_score='raise-deprecating',\n",
       "             estimator=Lasso(alpha=1.0, copy_X=True, fit_intercept=True,\n",
       "                             max_iter=5000, normalize=False, positive=False,\n",
       "                             precompute=False, random_state=None,\n",
       "                             selection='cyclic', tol=0.0001, warm_start=False),\n",
       "             iid='warn', n_jobs=None,\n",
       "             param_grid=[{'alpha': array([1.00000000e-05, 5.14949495e-04, 1.01989899e-03, 1.52484848e-03,\n",
       "       2.02...\n",
       "       4.04059596e-02, 4.09109091e-02, 4.14158586e-02, 4.19208081e-02,\n",
       "       4.24257576e-02, 4.29307071e-02, 4.34356566e-02, 4.39406061e-02,\n",
       "       4.44455556e-02, 4.49505051e-02, 4.54554545e-02, 4.59604040e-02,\n",
       "       4.64653535e-02, 4.69703030e-02, 4.74752525e-02, 4.79802020e-02,\n",
       "       4.84851515e-02, 4.89901010e-02, 4.94950505e-02, 5.00000000e-02])}],\n",
       "             pre_dispatch='2*n_jobs', refit=True, return_train_score=True,\n",
       "             scoring='neg_mean_squared_error', verbose=0)"
      ]
     },
     "execution_count": 5,
     "metadata": {},
     "output_type": "execute_result"
    }
   ],
   "source": [
    "#define alpha range and train lasso model\n",
    "alphaRange = np.linspace(10e-6,0.05,100)\n",
    "\n",
    "grid_param=[{'alpha': alphaRange}]\n",
    "para_search = GridSearchCV(estimator=Lasso(max_iter=5000),\\\n",
    "                           param_grid=grid_param, scoring='neg_mean_squared_error', cv=5, return_train_score=True)\n",
    "para_search.fit(trainX, trainY)"
   ]
  },
  {
   "cell_type": "markdown",
   "metadata": {},
   "source": [
    "#### *Visualize Grid Search Results*"
   ]
  },
  {
   "cell_type": "code",
   "execution_count": 6,
   "metadata": {},
   "outputs": [
    {
     "name": "stdout",
     "output_type": "stream",
     "text": [
      "Best Test MSE: 0.014715311741763295\n",
      "Best Alpha: 0.000514949494949495\n"
     ]
    },
    {
     "data": {
      "image/png": "[encoded data removed]",
      "text/plain": [
       "<Figure size 432x288 with 1 Axes>"
      ]
     },
     "metadata": {
      "needs_background": "light"
     },
     "output_type": "display_data"
    }
   ],
   "source": [
    "#plot cross validation results\n",
    "plt.plot(alphaRange,-1*para_search.cv_results_['mean_test_score'], label=r'test set MSE')\n",
    "plt.plot(alphaRange,-1*para_search.cv_results_['mean_train_score'], label=r'train set MSE')\n",
    "plt.legend(loc=4)\n",
    "\n",
    "plt.xlabel('Alpha=Lambda')\n",
    "plt.ylabel('MSE Score')\n",
    "lasso_best_score = para_search.best_score_\n",
    "lasso_best_alpha = para_search.best_params_['alpha']\n",
    "print('Best Test MSE: %s' %(abs(lasso_best_score)))\n",
    "print('Best Alpha: %s' %(lasso_best_alpha))"
   ]
  },
  {
   "cell_type": "markdown",
   "metadata": {},
   "source": [
    "#### *Lasso Results on Test Set*"
   ]
  },
  {
   "cell_type": "code",
   "execution_count": 7,
   "metadata": {},
   "outputs": [
    {
     "name": "stdout",
     "output_type": "stream",
     "text": [
      "Test MSE: 0.014944939629054665\n",
      "Test RMSE in $$: 17179.613951535746\n"
     ]
    }
   ],
   "source": [
    "lasso.set_params(alpha=lasso_best_alpha, normalize = False)\n",
    "lasso.fit(trainX,trainY)\n",
    "l_MSE = np.mean((lasso.predict(testX)-testY)**2)\n",
    "l_RMSE_in_dollars = np.mean((np.exp(lasso.predict(testX))-np.exp(testY))**2)**0.5\n",
    "print('Test MSE: %s' %(l_MSE))\n",
    "print('Test RMSE in $$: %s' %(l_RMSE_in_dollars))"
   ]
  },
  {
   "cell_type": "code",
   "execution_count": 8,
   "metadata": {
    "scrolled": false
   },
   "outputs": [
    {
     "data": {
      "text/plain": [
       "Neighborhood__14    0.152720\n",
       "Neighborhood__23    0.085120\n",
       "GrLivArea           0.081773\n",
       "OverallQual         0.067063\n",
       "SaleType__3         0.063861\n",
       "                      ...   \n",
       "BsmtFinType1__3    -0.037548\n",
       "Neighborhood__22   -0.040165\n",
       "MSSubClass__11     -0.050779\n",
       "MSSubClass__10     -0.052462\n",
       "MSZoning__1        -0.057868\n",
       "Length: 111, dtype: float64"
      ]
     },
     "execution_count": 8,
     "metadata": {},
     "output_type": "execute_result"
    }
   ],
   "source": [
    "important_coefs_lasso(lasso, trainX)"
   ]
  },
  {
   "cell_type": "markdown",
   "metadata": {},
   "source": [
    "### Ridge Model"
   ]
  },
  {
   "cell_type": "markdown",
   "metadata": {},
   "source": [
    "#### *Grid Search for Optimal Alpha*"
   ]
  },
  {
   "cell_type": "code",
   "execution_count": 9,
   "metadata": {
    "scrolled": true
   },
   "outputs": [
    {
     "data": {
      "text/plain": [
       "GridSearchCV(cv=5, error_score='raise-deprecating',\n",
       "             estimator=Ridge(alpha=1.0, copy_X=True, fit_intercept=True,\n",
       "                             max_iter=5000, normalize=False, random_state=None,\n",
       "                             solver='auto', tol=0.001),\n",
       "             iid='warn', n_jobs=None,\n",
       "             param_grid=[{'alpha': array([1.000e-02, 1.020e+00, 2.030e+00, 3.040e+00, 4.050e+00, 5.060e+00,\n",
       "       6.070e+00, 7.080e+00, 8.090e+00, 9.100e+00, 1.011e+01, 1.112e+01...\n",
       "       7.273e+01, 7.374e+01, 7.475e+01, 7.576e+01, 7.677e+01, 7.778e+01,\n",
       "       7.879e+01, 7.980e+01, 8.081e+01, 8.182e+01, 8.283e+01, 8.384e+01,\n",
       "       8.485e+01, 8.586e+01, 8.687e+01, 8.788e+01, 8.889e+01, 8.990e+01,\n",
       "       9.091e+01, 9.192e+01, 9.293e+01, 9.394e+01, 9.495e+01, 9.596e+01,\n",
       "       9.697e+01, 9.798e+01, 9.899e+01, 1.000e+02])}],\n",
       "             pre_dispatch='2*n_jobs', refit=True, return_train_score=True,\n",
       "             scoring='neg_mean_squared_error', verbose=0)"
      ]
     },
     "execution_count": 9,
     "metadata": {},
     "output_type": "execute_result"
    }
   ],
   "source": [
    "#define alpha range and train ridge model\n",
    "r_alphaRange = np.linspace(10e-3,100,100)\n",
    "\n",
    "r_grid_param=[{'alpha': r_alphaRange}]\n",
    "r_para_search = GridSearchCV(estimator=Ridge(max_iter=5000),\\\n",
    "                           param_grid=r_grid_param, scoring='neg_mean_squared_error', cv=5, return_train_score=True)\n",
    "r_para_search.fit(trainX, trainY)"
   ]
  },
  {
   "cell_type": "markdown",
   "metadata": {},
   "source": [
    "#### *Visualize Grid Search Results*"
   ]
  },
  {
   "cell_type": "code",
   "execution_count": 10,
   "metadata": {},
   "outputs": [
    {
     "name": "stdout",
     "output_type": "stream",
     "text": [
      "Best Test MSE: 0.014410789378928944\n",
      "Best Alpha: 32.33\n"
     ]
    },
    {
     "data": {
      "image/png": "[encoded data removed]",
      "text/plain": [
       "<Figure size 432x288 with 1 Axes>"
      ]
     },
     "metadata": {
      "needs_background": "light"
     },
     "output_type": "display_data"
    }
   ],
   "source": [
    "#plot cross validation results\n",
    "plt.plot(r_alphaRange,-1*r_para_search.cv_results_['mean_test_score'], label=r'test set MSE')\n",
    "plt.plot(r_alphaRange,-1*r_para_search.cv_results_['mean_train_score'], label=r'train set MSE')\n",
    "plt.legend(loc=4)\n",
    "\n",
    "plt.xlabel('Alpha=Lambda')\n",
    "plt.ylabel('MSE Score')\n",
    "ridge_best_score = r_para_search.best_score_\n",
    "ridge_best_alpha = r_para_search.best_params_['alpha']\n",
    "print('Best Test MSE: %s' %(abs(ridge_best_score)))\n",
    "print('Best Alpha: %s' %(ridge_best_alpha))"
   ]
  },
  {
   "cell_type": "markdown",
   "metadata": {},
   "source": [
    "#### *Ridge Results on Test Set*"
   ]
  },
  {
   "cell_type": "code",
   "execution_count": 11,
   "metadata": {},
   "outputs": [
    {
     "name": "stdout",
     "output_type": "stream",
     "text": [
      "Test MSE: 0.015260179634146035\n",
      "Test RMSE in $$: 17076.585042919414\n"
     ]
    }
   ],
   "source": [
    "ridge.set_params(alpha=ridge_best_alpha, normalize = False)\n",
    "ridge.fit(trainX,trainY)\n",
    "r_MSE = np.mean((ridge.predict(testX)-testY)**2)\n",
    "r_RMSE_in_dollars = np.mean((np.exp(ridge.predict(testX))-np.exp(testY))**2)**0.5\n",
    "print('Test MSE: %s' %(r_MSE))\n",
    "print('Test RMSE in $$: %s' %(r_RMSE_in_dollars))"
   ]
  },
  {
   "cell_type": "code",
   "execution_count": 12,
   "metadata": {},
   "outputs": [
    {
     "data": {
      "text/plain": [
       "OverallQual         0.064239\n",
       "Neighborhood__14    0.049091\n",
       "YearBuilt           0.048008\n",
       "OverallCond         0.042177\n",
       "GrLivArea           0.039213\n",
       "                      ...   \n",
       "LotShape__3         0.000575\n",
       "Neighborhood__10   -0.000425\n",
       "SaleType__4        -0.000344\n",
       "GarageType__3      -0.000228\n",
       "Exterior2nd__12     0.000225\n",
       "Length: 176, dtype: float64"
      ]
     },
     "execution_count": 12,
     "metadata": {},
     "output_type": "execute_result"
    }
   ],
   "source": [
    "sort_ridge_coefs(ridge, trainX)"
   ]
  },
  {
   "cell_type": "markdown",
   "metadata": {},
   "source": [
    "### Elastic Net Model"
   ]
  },
  {
   "cell_type": "markdown",
   "metadata": {},
   "source": [
    "#### *Grid Search for Optimal Alpha*"
   ]
  },
  {
   "cell_type": "code",
   "execution_count": 13,
   "metadata": {
    "scrolled": true
   },
   "outputs": [
    {
     "data": {
      "text/plain": [
       "GridSearchCV(cv=5, error_score='raise-deprecating',\n",
       "             estimator=ElasticNet(alpha=1.0, copy_X=True, fit_intercept=True,\n",
       "                                  l1_ratio=0.5, max_iter=2000, normalize=False,\n",
       "                                  positive=False, precompute=False,\n",
       "                                  random_state=None, selection='cyclic',\n",
       "                                  tol=0.0001, warm_start=False),\n",
       "             iid='warn', n_jobs=None,\n",
       "             param_grid=[{'alpha': array([1.00000000e-03, 2.03010101e-01, 4.05020202e-01, 6...\n",
       "       1.69698485e+01, 1.71718586e+01, 1.73738687e+01, 1.75758788e+01,\n",
       "       1.77778889e+01, 1.79798990e+01, 1.81819091e+01, 1.83839192e+01,\n",
       "       1.85859293e+01, 1.87879394e+01, 1.89899495e+01, 1.91919596e+01,\n",
       "       1.93939697e+01, 1.95959798e+01, 1.97979899e+01, 2.00000000e+01]),\n",
       "                          'l1_ratio': array([0.1, 0.2, 0.3, 0.4, 0.5, 0.6, 0.7, 0.8, 0.9, 1. ])}],\n",
       "             pre_dispatch='2*n_jobs', refit=True, return_train_score=True,\n",
       "             scoring='neg_mean_squared_error', verbose=0)"
      ]
     },
     "execution_count": 13,
     "metadata": {},
     "output_type": "execute_result"
    }
   ],
   "source": [
    "#define alpha range and train elastic net model\n",
    "alphaSize = 100\n",
    "rhoSize = 10\n",
    "e_alphaRange = np.linspace(10e-4, 20, alphaSize)\n",
    "l1_ratio = np.linspace(0.1, 1, rhoSize)\n",
    "\n",
    "e_grid_param=[{'alpha': e_alphaRange, 'l1_ratio': l1_ratio}]\n",
    "e_para_search = GridSearchCV(estimator=ElasticNet(max_iter=2000),\\\n",
    "                           param_grid=e_grid_param, scoring='neg_mean_squared_error', cv=5, return_train_score=True)\n",
    "e_para_search.fit(trainX, trainY)"
   ]
  },
  {
   "cell_type": "markdown",
   "metadata": {},
   "source": [
    "#### *Output eNet Params*"
   ]
  },
  {
   "cell_type": "code",
   "execution_count": 14,
   "metadata": {},
   "outputs": [
    {
     "name": "stdout",
     "output_type": "stream",
     "text": [
      "Best Test MSE: 0.014410789378928944\n",
      "Best Alpha: 0.001\n",
      "Best Rho: 0.8\n"
     ]
    }
   ],
   "source": [
    "e_best_alpha = e_para_search.best_params_['alpha']\n",
    "e_best_l1ratio = list(e_para_search.best_params_.values())[1]\n",
    "e_best_score = r_para_search.best_score_\n",
    "print('Best Test MSE: %s' %(abs(e_best_score)))\n",
    "print('Best Alpha: %s' %(e_best_alpha))\n",
    "print('Best Rho: %s' %(e_best_l1ratio))"
   ]
  },
  {
   "cell_type": "markdown",
   "metadata": {},
   "source": [
    "#### *eNet Results on Test Set*"
   ]
  },
  {
   "cell_type": "code",
   "execution_count": 15,
   "metadata": {},
   "outputs": [
    {
     "name": "stdout",
     "output_type": "stream",
     "text": [
      "Test MSE: 0.014352558458145257\n",
      "Test RMSE in $$: 16698.762271873955\n"
     ]
    }
   ],
   "source": [
    "elasticnet.set_params(alpha=e_best_alpha, l1_ratio = e_best_l1ratio, normalize = False)\n",
    "elasticnet.fit(trainX,trainY)\n",
    "e_MSE = np.mean((elasticnet.predict(testX)-testY)**2)\n",
    "e_RMSE_in_dollars = np.mean((np.exp(elasticnet.predict(testX))-np.exp(testY))**2)**0.5\n",
    "print('Test MSE: %s' %(e_MSE))\n",
    "print('Test RMSE in $$: %s' %(e_RMSE_in_dollars))"
   ]
  },
  {
   "cell_type": "code",
   "execution_count": 16,
   "metadata": {},
   "outputs": [
    {
     "data": {
      "text/plain": [
       "Neighborhood__14    0.128928\n",
       "GrLivArea           0.082051\n",
       "OverallQual         0.068889\n",
       "Neighborhood__23    0.065761\n",
       "YearBuilt           0.063799\n",
       "                      ...   \n",
       "LotShape__3        -0.000000\n",
       "SaleCondition__1   -0.000000\n",
       "SaleCondition__2   -0.000000\n",
       "SaleCondition__3    0.000000\n",
       "Exterior2nd__14     0.000000\n",
       "Length: 176, dtype: float64"
      ]
     },
     "execution_count": 16,
     "metadata": {},
     "output_type": "execute_result"
    }
   ],
   "source": [
    "sort_ridge_coefs(elasticnet, trainX)"
   ]
  },
  {
   "cell_type": "markdown",
   "metadata": {},
   "source": [
    "### CV Bagging"
   ]
  },
  {
   "cell_type": "code",
   "execution_count": 17,
   "metadata": {},
   "outputs": [
    {
     "name": "stdout",
     "output_type": "stream",
     "text": [
      "CPU times: user 3.62 s, sys: 579 ms, total: 4.2 s\n",
      "Wall time: 49.9 s\n",
      "Best parameters: {'max_features': 0.5, 'max_samples': 0.9}\n",
      "Best MSE Score: 0.019\n",
      "MSE Score on training data set (using best parameters): 0.008339\n",
      "MSE Score on test data set (using best parameters): 0.020835\n",
      "RMSE in $$ on test data set (using best parameters): 19313.5\n"
     ]
    }
   ],
   "source": [
    "# Use double underscore to indicate this parameter \"belongs\":\n",
    "# base_estimator__ <-- belongs to base_estimator (use __)\n",
    "# Other parameters without __ (double underscore) are parameters for the bagging classifier\n",
    "\n",
    "# TAKES TOO LONG TO RUN PARAM_GRID2\n",
    "# param_grid2 = {\n",
    "#     'base_estimator__min_samples_leaf' : range(2, 13),\\\n",
    "#     'base_estimator__min_samples_split': range(2, 21),\\\n",
    "#     'n_estimators' : range(100,600,100),\\\n",
    "#     'max_samples' : [0.3, 0.6, 0.9],\\\n",
    "#     'max_features': [0.25,0.5,0.75]\n",
    "# }\n",
    "param_grid = {\n",
    "    'max_samples' : np.linspace(0.1,0.9,9),\\\n",
    "    'max_features': np.linspace(0.1,0.9,9)\n",
    "}\n",
    "grid_search_bag = GridSearchCV(ensemble.BaggingRegressor(base_estimator=tree.DecisionTreeRegressor(criterion=\"mse\",splitter=\"best\",min_samples_leaf=2,min_samples_split=15),\\\n",
    "                                                         n_estimators=100,bootstrap=True,oob_score = True,n_jobs=-1,random_state=0),\\\n",
    "                               param_grid, cv=5, scoring='neg_mean_squared_error', n_jobs=-1,refit=True)\n",
    "%time grid_search_bag.fit(trainX, trainY)\n",
    "\n",
    "# Print results    \n",
    "print('Best parameters: {}'.format(grid_search_bag.best_params_))\n",
    "print('Best MSE Score: {0:.3f}'.format(-grid_search_bag.best_score_)) # NOTE: it is negated! (Sklearn convention)\n",
    "print('MSE Score on training data set (using best parameters): {0:.6f}'.format(-grid_search_bag.score(trainX, trainY)))\n",
    "print('MSE Score on test data set (using best parameters): {0:.6f}'.format(-grid_search_bag.score(testX, testY)))\n",
    "print('RMSE in $$ on test data set (using best parameters): {0:.1f}'.format(\\\n",
    "      np.mean((np.exp(grid_search_bag.predict(testX))-np.exp(testY))**2)**0.5))"
   ]
  },
  {
   "cell_type": "markdown",
   "metadata": {},
   "source": [
    "#### *Visualize Grid Search Results*"
   ]
  },
  {
   "cell_type": "code",
   "execution_count": 18,
   "metadata": {},
   "outputs": [
    {
     "data": {
      "image/png": "[encoded data removed]",
      "text/plain": [
       "<Figure size 432x288 with 2 Axes>"
      ]
     },
     "metadata": {
      "needs_background": "light"
     },
     "output_type": "display_data"
    }
   ],
   "source": [
    "xplot=list(param_grid['max_samples'])\n",
    "yplot=list(param_grid['max_features'])\n",
    "zplot=-1*grid_search_bag.cv_results_['mean_test_score'].reshape(len(yplot),-1) # NOTE: it is negated! (Sklearn convention)\n",
    "plt.pcolor(xplot,yplot,zplot,cmap='RdBu')\n",
    "plt.colorbar();\n",
    "plt.xlabel('Maximum Number of Samples for Bootstrap (%)');\n",
    "plt.ylabel('Max Features to Consider for Each Split');"
   ]
  },
  {
   "cell_type": "markdown",
   "metadata": {},
   "source": [
    "#### *Visualize MSE*"
   ]
  },
  {
   "cell_type": "code",
   "execution_count": 19,
   "metadata": {},
   "outputs": [
    {
     "data": {
      "image/png": "[encoded data removed]",
      "text/plain": [
       "<Figure size 432x288 with 1 Axes>"
      ]
     },
     "metadata": {
      "needs_background": "light"
     },
     "output_type": "display_data"
    }
   ],
   "source": [
    "number_estimators = range(10, 110,10)\n",
    "train_error = []\n",
    "test_error = []\n",
    "for i in number_estimators:\n",
    "    bagging.set_params(n_estimators=i,bootstrap=True,oob_score = False,n_jobs=-1,random_state=0,\\\n",
    "                       max_samples=0.6,max_features=0.5)\n",
    "    bagging.fit(trainX, trainY)\n",
    "    train_error.append(metrics.mean_squared_error(trainY, bagging.predict(trainX))) \n",
    "    test_error.append(metrics.mean_squared_error(testY, bagging.predict(testX))) \n",
    "import matplotlib.pyplot as plt\n",
    "plt.plot(number_estimators, train_error, c='red', label='training error')\n",
    "plt.plot(number_estimators, test_error, c='blue', label='test error')\n",
    "plt.ylabel('MSE')\n",
    "plt.xlabel('Number of Trees')\n",
    "plt.legend()\n",
    "plt.show()"
   ]
  },
  {
   "cell_type": "markdown",
   "metadata": {},
   "source": [
    "### Random Forests"
   ]
  },
  {
   "cell_type": "code",
   "execution_count": 20,
   "metadata": {},
   "outputs": [
    {
     "name": "stdout",
     "output_type": "stream",
     "text": [
      "CPU times: user 8.24 s, sys: 2.46 s, total: 10.7 s\n",
      "Wall time: 1min 15s\n",
      "Best parameters: {'max_depth': 17, 'max_features': 19}\n",
      "Best MSE Score: 0.018\n",
      "MSE Score on training data set (using best parameters): 0.005\n",
      "MSE Score on test data set (using best parameters): 0.022\n",
      "RMSE in $$ on test data set (using best parameters): 19813.0\n"
     ]
    }
   ],
   "source": [
    "param_grid = {\n",
    "    'max_depth' : range(5,20),\\\n",
    "    'max_features': range(5,20)\n",
    "}\n",
    "randomForest = ensemble.RandomForestRegressor()\n",
    "grid_search_forest = GridSearchCV(ensemble.RandomForestRegressor(n_estimators=100,criterion=\"mse\",\\\n",
    "                                                                 min_samples_leaf=2,min_samples_split=2,\\\n",
    "                                                                 bootstrap=True,oob_score = True,n_jobs=-1),\\\n",
    "                                  param_grid, cv=5, scoring='neg_mean_squared_error', n_jobs=-1,refit=True)\n",
    "%time grid_search_forest.fit(trainX, trainY)\n",
    "\n",
    "# Print results    \n",
    "print('Best parameters: {}'.format(grid_search_forest.best_params_))\n",
    "print('Best MSE Score: {0:.3f}'.format(-grid_search_forest.best_score_)) # NOTE: it is negated! (Sklearn convention)\n",
    "print('MSE Score on training data set (using best parameters): {0:.3f}'.format(-grid_search_forest.score(trainX, trainY)))\n",
    "print('MSE Score on test data set (using best parameters): {0:.3f}'.format(-grid_search_forest.score(testX, testY)))\n",
    "print('RMSE in $$ on test data set (using best parameters): {0:.1f}'.format(\\\n",
    "      np.mean((np.exp(grid_search_forest.predict(testX))-np.exp(testY))**2)**0.5))"
   ]
  },
  {
   "cell_type": "markdown",
   "metadata": {},
   "source": [
    "#### *Visualize Grid Search Results*"
   ]
  },
  {
   "cell_type": "code",
   "execution_count": 21,
   "metadata": {},
   "outputs": [
    {
     "data": {
      "image/png": "[encoded data removed]",
      "text/plain": [
       "<Figure size 432x288 with 2 Axes>"
      ]
     },
     "metadata": {
      "needs_background": "light"
     },
     "output_type": "display_data"
    }
   ],
   "source": [
    "xplot=list(param_grid['max_depth'])\n",
    "yplot=list(param_grid['max_features'])\n",
    "zplot=-1*grid_search_forest.cv_results_['mean_test_score'].reshape(len(yplot),-1) # NOTE: it is negated! (Sklearn convention)\n",
    "plt.pcolor(xplot,yplot,zplot,cmap='RdBu')\n",
    "plt.colorbar();\n",
    "plt.xlabel('Maximum Tree Depth');\n",
    "plt.ylabel('Max Features to Consider for Each Split');"
   ]
  },
  {
   "cell_type": "markdown",
   "metadata": {},
   "source": [
    "#### *Visualize MSE*"
   ]
  },
  {
   "cell_type": "code",
   "execution_count": 22,
   "metadata": {},
   "outputs": [
    {
     "data": {
      "image/png": "[encoded data removed]",
      "text/plain": [
       "<Figure size 432x288 with 1 Axes>"
      ]
     },
     "metadata": {
      "needs_background": "light"
     },
     "output_type": "display_data"
    }
   ],
   "source": [
    "number_estimators = range(10,110,10)\n",
    "train_error = []\n",
    "test_error = []\n",
    "for i in number_estimators:\n",
    "    randomForest.set_params(n_estimators=i,criterion=\"mse\",bootstrap=True,oob_score = False,n_jobs=-1,random_state=0,\\\n",
    "                       max_depth=5,max_features=5)\n",
    "    randomForest.fit(trainX, trainY)\n",
    "    train_error.append(metrics.mean_squared_error(trainY, randomForest.predict(trainX))) \n",
    "    test_error.append(metrics.mean_squared_error(testY, randomForest.predict(testX))) \n",
    "import matplotlib.pyplot as plt\n",
    "plt.plot(number_estimators, train_error, c='red', label='training error')\n",
    "plt.plot(number_estimators, test_error, c='blue', label='test error')\n",
    "plt.ylabel('MSE')\n",
    "plt.xlabel('Number of Trees')\n",
    "plt.legend()\n",
    "plt.show()"
   ]
  },
  {
   "cell_type": "code",
   "execution_count": 23,
   "metadata": {},
   "outputs": [
    {
     "data": {
      "text/plain": [
       "<matplotlib.axes._subplots.AxesSubplot at 0x7f027c22a810>"
      ]
     },
     "execution_count": 23,
     "metadata": {},
     "output_type": "execute_result"
    },
    {
     "data": {
      "image/png": "[encoded data removed]",
      "text/plain": [
       "<Figure size 432x288 with 1 Axes>"
      ]
     },
     "metadata": {
      "needs_background": "light"
     },
     "output_type": "display_data"
    }
   ],
   "source": [
    "#visualize best predictors\n",
    "feature_importance = list(zip(trainX.columns, randomForest.feature_importances_))\n",
    "dtype = [('feature', 'S10'), ('importance', 'float')]\n",
    "feature_importance = np.array(feature_importance, dtype=dtype)\n",
    "feature_sort = np.sort(feature_importance, order='importance')[::-1]\n",
    "name, score = zip(*list(feature_sort))\n",
    "pd.DataFrame({'name':name,'score':score})[:20].plot.bar(x='name', y='score')"
   ]
  },
  {
   "cell_type": "markdown",
   "metadata": {},
   "source": [
    "### Store Outputs"
   ]
  },
  {
   "cell_type": "code",
   "execution_count": 24,
   "metadata": {},
   "outputs": [],
   "source": [
    "# index = ['Lasso', 'Ridge', 'eNet', 'Bagged_Tree', 'Rand_Forests']\n",
    "# scores = [l_MSE, r_MSE, e_MSE, -grid_search_bag.score(testX, testY), -grid_search_forest.score(testX, testY)]\n",
    "# model_results = pd.DataFrame(data=scores,index=index, columns = ['basic5'])"
   ]
  },
  {
   "cell_type": "code",
   "execution_count": 25,
   "metadata": {},
   "outputs": [],
   "source": [
    "# fill in name of dataframe\n",
    "# model_results['?'] = [l_MSE, r_MSE, e_MSE, -grid_search_bag.score(testX, testY), -grid_search_forest.score(testX, testY)]"
   ]
  },
  {
   "cell_type": "code",
   "execution_count": 26,
   "metadata": {},
   "outputs": [
    {
     "ename": "NameError",
     "evalue": "name 'model_results' is not defined",
     "output_type": "error",
     "traceback": [
      "\u001b[0;31m---------------------------------------------------------------------------\u001b[0m",
      "\u001b[0;31mNameError\u001b[0m                                 Traceback (most recent call last)",
      "\u001b[0;32m<ipython-input-26-0da0cae44832>\u001b[0m in \u001b[0;36m<module>\u001b[0;34m\u001b[0m\n\u001b[0;32m----> 1\u001b[0;31m \u001b[0mmodel_results\u001b[0m\u001b[0;34m\u001b[0m\u001b[0;34m\u001b[0m\u001b[0m\n\u001b[0m",
      "\u001b[0;31mNameError\u001b[0m: name 'model_results' is not defined"
     ]
    }
   ],
   "source": [
    "model_results"
   ]
  },
  {
   "cell_type": "code",
   "execution_count": null,
   "metadata": {},
   "outputs": [],
   "source": []
  }
 ],
 "metadata": {
  "kernelspec": {
   "display_name": "Python 3",
   "language": "python",
   "name": "python3"
  },
  "language_info": {
   "codemirror_mode": {
    "name": "ipython",
    "version": 3
   },
   "file_extension": ".py",
   "mimetype": "text/x-python",
   "name": "python",
   "nbconvert_exporter": "python",
   "pygments_lexer": "ipython3",
   "version": "3.7.4"
  }
 },
 "nbformat": 4,
 "nbformat_minor": 2
}
